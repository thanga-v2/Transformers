{
  "nbformat": 4,
  "nbformat_minor": 0,
  "metadata": {
    "colab": {
      "provenance": [],
      "gpuType": "T4",
      "authorship_tag": "ABX9TyPI46gWsn+AYev179VPDG9e",
      "include_colab_link": true
    },
    "kernelspec": {
      "name": "python3",
      "display_name": "Python 3"
    },
    "language_info": {
      "name": "python"
    },
    "accelerator": "GPU"
  },
  "cells": [
    {
      "cell_type": "markdown",
      "metadata": {
        "id": "view-in-github",
        "colab_type": "text"
      },
      "source": [
        "<a href=\"https://colab.research.google.com/github/thanga-v2/Transformers/blob/main/Eng_to_French.ipynb\" target=\"_parent\"><img src=\"https://colab.research.google.com/assets/colab-badge.svg\" alt=\"Open In Colab\"/></a>"
      ]
    },
    {
      "cell_type": "code",
      "execution_count": 2,
      "metadata": {
        "id": "w67DOt-iBGZA"
      },
      "outputs": [],
      "source": [
        "from transformers import pipeline"
      ]
    },
    {
      "cell_type": "code",
      "source": [
        "# Use a pipeline as a high-level helper\n",
        "from transformers import pipeline\n",
        "\n",
        "pipe = pipeline(\"translation\", model=\"Helsinki-NLP/opus-mt-en-fr\", device=0)"
      ],
      "metadata": {
        "colab": {
          "base_uri": "https://localhost:8080/"
        },
        "id": "f3UHjm1-BtDE",
        "outputId": "fa773a1f-6894-407d-d983-e5a12169c547"
      },
      "execution_count": 7,
      "outputs": [
        {
          "output_type": "stream",
          "name": "stderr",
          "text": [
            "/usr/local/lib/python3.10/dist-packages/transformers/models/marian/tokenization_marian.py:175: UserWarning: Recommended: pip install sacremoses.\n",
            "  warnings.warn(\"Recommended: pip install sacremoses.\")\n"
          ]
        }
      ]
    },
    {
      "cell_type": "code",
      "source": [
        "test = pipe(\"EURO EXIM BANK LTD (REGISTERED OFFICE) is a Class A International Banking Financial institution incorporated under the revised laws of St. Lucia. The license provides authorisation to conduct business with third parties across industries and geographies worldwide. This office does not provide any services to any natural person or legal entity in St. Lucia and is regulated by the Financial Services Regulatory Authority in St. Lucia. EURO EXIM BANK LIMITED (REPRESENTATIVE OFFICE) is a company incorporated under the laws of England and Wales with company registration number 07520196. This entity is a non-banking financial institution that facilitates international business transactions through issuance and relay of various trade finance instruments. The London-based Representative Office offers Letters of Credit and Standby Letters of Credit to corporate clients only. This office does not provide regulated or controlled services or activities.\")"
      ],
      "metadata": {
        "id": "HbLBc2CICpLC"
      },
      "execution_count": 8,
      "outputs": []
    },
    {
      "cell_type": "code",
      "source": [
        "test"
      ],
      "metadata": {
        "colab": {
          "base_uri": "https://localhost:8080/"
        },
        "id": "QiwEbl1PC1bW",
        "outputId": "102835c8-9a27-4740-e578-f3bb54626cea"
      },
      "execution_count": 9,
      "outputs": [
        {
          "output_type": "execute_result",
          "data": {
            "text/plain": [
              "[{'translation_text': \"EURO EXIM BANK LTD (OFFICE REGISTERED) est une institution financière internationale de catégorie A constituée en vertu des lois révisées de Sainte-Lucie. La licence autorise la conduite d'affaires avec des tiers à travers les industries et les géographies du monde entier. Ce bureau ne fournit aucun service à une personne physique ou morale à Sainte-Lucie et est réglementé par l'Autorité de réglementation des services financiers à Sainte-Lucie. EURO EXIM BANK LIMITED (OFFICE REPRESENTATIVE) est une société constituée en vertu des lois de l'Angleterre et du pays de Galles portant le numéro d'enregistrement 07520196. Cette entité est une institution financière non bancaire qui facilite les transactions commerciales internationales par l'émission et le relais de divers instruments de financement commercial.\"}]"
            ]
          },
          "metadata": {},
          "execution_count": 9
        }
      ]
    },
    {
      "cell_type": "code",
      "source": [
        "test[0]"
      ],
      "metadata": {
        "colab": {
          "base_uri": "https://localhost:8080/"
        },
        "id": "xfiMzFLQC2th",
        "outputId": "d13d59a1-2147-4f92-ae71-702c189200b9"
      },
      "execution_count": 10,
      "outputs": [
        {
          "output_type": "execute_result",
          "data": {
            "text/plain": [
              "{'translation_text': \"EURO EXIM BANK LTD (OFFICE REGISTERED) est une institution financière internationale de catégorie A constituée en vertu des lois révisées de Sainte-Lucie. La licence autorise la conduite d'affaires avec des tiers à travers les industries et les géographies du monde entier. Ce bureau ne fournit aucun service à une personne physique ou morale à Sainte-Lucie et est réglementé par l'Autorité de réglementation des services financiers à Sainte-Lucie. EURO EXIM BANK LIMITED (OFFICE REPRESENTATIVE) est une société constituée en vertu des lois de l'Angleterre et du pays de Galles portant le numéro d'enregistrement 07520196. Cette entité est une institution financière non bancaire qui facilite les transactions commerciales internationales par l'émission et le relais de divers instruments de financement commercial.\"}"
            ]
          },
          "metadata": {},
          "execution_count": 10
        }
      ]
    }
  ]
}