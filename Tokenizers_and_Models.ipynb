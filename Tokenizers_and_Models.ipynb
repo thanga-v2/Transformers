{
  "nbformat": 4,
  "nbformat_minor": 0,
  "metadata": {
    "colab": {
      "provenance": [],
      "gpuType": "T4",
      "authorship_tag": "ABX9TyPDoTu21JHKiT8STF2NTL2J",
      "include_colab_link": true
    },
    "kernelspec": {
      "name": "python3",
      "display_name": "Python 3"
    },
    "language_info": {
      "name": "python"
    },
    "accelerator": "GPU",
    "widgets": {
      "application/vnd.jupyter.widget-state+json": {
        "15a1ee7d72cd4b399a416ae148152c7f": {
          "model_module": "@jupyter-widgets/controls",
          "model_name": "HBoxModel",
          "model_module_version": "1.5.0",
          "state": {
            "_dom_classes": [],
            "_model_module": "@jupyter-widgets/controls",
            "_model_module_version": "1.5.0",
            "_model_name": "HBoxModel",
            "_view_count": null,
            "_view_module": "@jupyter-widgets/controls",
            "_view_module_version": "1.5.0",
            "_view_name": "HBoxView",
            "box_style": "",
            "children": [
              "IPY_MODEL_f111c7700ff748aeb37ab3e0d014b3ba",
              "IPY_MODEL_568d5a4875ae4f79b66280f03ce71579",
              "IPY_MODEL_3a5c864b0fe94b3087c3e6f34e3ebd8f"
            ],
            "layout": "IPY_MODEL_9c8a5b1e43654bd2925538d4b6a889d0"
          }
        },
        "f111c7700ff748aeb37ab3e0d014b3ba": {
          "model_module": "@jupyter-widgets/controls",
          "model_name": "HTMLModel",
          "model_module_version": "1.5.0",
          "state": {
            "_dom_classes": [],
            "_model_module": "@jupyter-widgets/controls",
            "_model_module_version": "1.5.0",
            "_model_name": "HTMLModel",
            "_view_count": null,
            "_view_module": "@jupyter-widgets/controls",
            "_view_module_version": "1.5.0",
            "_view_name": "HTMLView",
            "description": "",
            "description_tooltip": null,
            "layout": "IPY_MODEL_c5728794ff734ad2bc0fda0d614fc7d4",
            "placeholder": "​",
            "style": "IPY_MODEL_2122236062f244569c1b01c2cd479636",
            "value": "model.safetensors: 100%"
          }
        },
        "568d5a4875ae4f79b66280f03ce71579": {
          "model_module": "@jupyter-widgets/controls",
          "model_name": "FloatProgressModel",
          "model_module_version": "1.5.0",
          "state": {
            "_dom_classes": [],
            "_model_module": "@jupyter-widgets/controls",
            "_model_module_version": "1.5.0",
            "_model_name": "FloatProgressModel",
            "_view_count": null,
            "_view_module": "@jupyter-widgets/controls",
            "_view_module_version": "1.5.0",
            "_view_name": "ProgressView",
            "bar_style": "success",
            "description": "",
            "description_tooltip": null,
            "layout": "IPY_MODEL_38d9b5b84e524ec3b974bc8c65120312",
            "max": 435755784,
            "min": 0,
            "orientation": "horizontal",
            "style": "IPY_MODEL_32d6856ec2b046c29462bcd5b3a27c12",
            "value": 435755784
          }
        },
        "3a5c864b0fe94b3087c3e6f34e3ebd8f": {
          "model_module": "@jupyter-widgets/controls",
          "model_name": "HTMLModel",
          "model_module_version": "1.5.0",
          "state": {
            "_dom_classes": [],
            "_model_module": "@jupyter-widgets/controls",
            "_model_module_version": "1.5.0",
            "_model_name": "HTMLModel",
            "_view_count": null,
            "_view_module": "@jupyter-widgets/controls",
            "_view_module_version": "1.5.0",
            "_view_name": "HTMLView",
            "description": "",
            "description_tooltip": null,
            "layout": "IPY_MODEL_69faefb5ac2d4798bfe159d149da6bec",
            "placeholder": "​",
            "style": "IPY_MODEL_9769cff94c4e464fb161ad9e0ecc429a",
            "value": " 436M/436M [00:06&lt;00:00, 94.0MB/s]"
          }
        },
        "9c8a5b1e43654bd2925538d4b6a889d0": {
          "model_module": "@jupyter-widgets/base",
          "model_name": "LayoutModel",
          "model_module_version": "1.2.0",
          "state": {
            "_model_module": "@jupyter-widgets/base",
            "_model_module_version": "1.2.0",
            "_model_name": "LayoutModel",
            "_view_count": null,
            "_view_module": "@jupyter-widgets/base",
            "_view_module_version": "1.2.0",
            "_view_name": "LayoutView",
            "align_content": null,
            "align_items": null,
            "align_self": null,
            "border": null,
            "bottom": null,
            "display": null,
            "flex": null,
            "flex_flow": null,
            "grid_area": null,
            "grid_auto_columns": null,
            "grid_auto_flow": null,
            "grid_auto_rows": null,
            "grid_column": null,
            "grid_gap": null,
            "grid_row": null,
            "grid_template_areas": null,
            "grid_template_columns": null,
            "grid_template_rows": null,
            "height": null,
            "justify_content": null,
            "justify_items": null,
            "left": null,
            "margin": null,
            "max_height": null,
            "max_width": null,
            "min_height": null,
            "min_width": null,
            "object_fit": null,
            "object_position": null,
            "order": null,
            "overflow": null,
            "overflow_x": null,
            "overflow_y": null,
            "padding": null,
            "right": null,
            "top": null,
            "visibility": null,
            "width": null
          }
        },
        "c5728794ff734ad2bc0fda0d614fc7d4": {
          "model_module": "@jupyter-widgets/base",
          "model_name": "LayoutModel",
          "model_module_version": "1.2.0",
          "state": {
            "_model_module": "@jupyter-widgets/base",
            "_model_module_version": "1.2.0",
            "_model_name": "LayoutModel",
            "_view_count": null,
            "_view_module": "@jupyter-widgets/base",
            "_view_module_version": "1.2.0",
            "_view_name": "LayoutView",
            "align_content": null,
            "align_items": null,
            "align_self": null,
            "border": null,
            "bottom": null,
            "display": null,
            "flex": null,
            "flex_flow": null,
            "grid_area": null,
            "grid_auto_columns": null,
            "grid_auto_flow": null,
            "grid_auto_rows": null,
            "grid_column": null,
            "grid_gap": null,
            "grid_row": null,
            "grid_template_areas": null,
            "grid_template_columns": null,
            "grid_template_rows": null,
            "height": null,
            "justify_content": null,
            "justify_items": null,
            "left": null,
            "margin": null,
            "max_height": null,
            "max_width": null,
            "min_height": null,
            "min_width": null,
            "object_fit": null,
            "object_position": null,
            "order": null,
            "overflow": null,
            "overflow_x": null,
            "overflow_y": null,
            "padding": null,
            "right": null,
            "top": null,
            "visibility": null,
            "width": null
          }
        },
        "2122236062f244569c1b01c2cd479636": {
          "model_module": "@jupyter-widgets/controls",
          "model_name": "DescriptionStyleModel",
          "model_module_version": "1.5.0",
          "state": {
            "_model_module": "@jupyter-widgets/controls",
            "_model_module_version": "1.5.0",
            "_model_name": "DescriptionStyleModel",
            "_view_count": null,
            "_view_module": "@jupyter-widgets/base",
            "_view_module_version": "1.2.0",
            "_view_name": "StyleView",
            "description_width": ""
          }
        },
        "38d9b5b84e524ec3b974bc8c65120312": {
          "model_module": "@jupyter-widgets/base",
          "model_name": "LayoutModel",
          "model_module_version": "1.2.0",
          "state": {
            "_model_module": "@jupyter-widgets/base",
            "_model_module_version": "1.2.0",
            "_model_name": "LayoutModel",
            "_view_count": null,
            "_view_module": "@jupyter-widgets/base",
            "_view_module_version": "1.2.0",
            "_view_name": "LayoutView",
            "align_content": null,
            "align_items": null,
            "align_self": null,
            "border": null,
            "bottom": null,
            "display": null,
            "flex": null,
            "flex_flow": null,
            "grid_area": null,
            "grid_auto_columns": null,
            "grid_auto_flow": null,
            "grid_auto_rows": null,
            "grid_column": null,
            "grid_gap": null,
            "grid_row": null,
            "grid_template_areas": null,
            "grid_template_columns": null,
            "grid_template_rows": null,
            "height": null,
            "justify_content": null,
            "justify_items": null,
            "left": null,
            "margin": null,
            "max_height": null,
            "max_width": null,
            "min_height": null,
            "min_width": null,
            "object_fit": null,
            "object_position": null,
            "order": null,
            "overflow": null,
            "overflow_x": null,
            "overflow_y": null,
            "padding": null,
            "right": null,
            "top": null,
            "visibility": null,
            "width": null
          }
        },
        "32d6856ec2b046c29462bcd5b3a27c12": {
          "model_module": "@jupyter-widgets/controls",
          "model_name": "ProgressStyleModel",
          "model_module_version": "1.5.0",
          "state": {
            "_model_module": "@jupyter-widgets/controls",
            "_model_module_version": "1.5.0",
            "_model_name": "ProgressStyleModel",
            "_view_count": null,
            "_view_module": "@jupyter-widgets/base",
            "_view_module_version": "1.2.0",
            "_view_name": "StyleView",
            "bar_color": null,
            "description_width": ""
          }
        },
        "69faefb5ac2d4798bfe159d149da6bec": {
          "model_module": "@jupyter-widgets/base",
          "model_name": "LayoutModel",
          "model_module_version": "1.2.0",
          "state": {
            "_model_module": "@jupyter-widgets/base",
            "_model_module_version": "1.2.0",
            "_model_name": "LayoutModel",
            "_view_count": null,
            "_view_module": "@jupyter-widgets/base",
            "_view_module_version": "1.2.0",
            "_view_name": "LayoutView",
            "align_content": null,
            "align_items": null,
            "align_self": null,
            "border": null,
            "bottom": null,
            "display": null,
            "flex": null,
            "flex_flow": null,
            "grid_area": null,
            "grid_auto_columns": null,
            "grid_auto_flow": null,
            "grid_auto_rows": null,
            "grid_column": null,
            "grid_gap": null,
            "grid_row": null,
            "grid_template_areas": null,
            "grid_template_columns": null,
            "grid_template_rows": null,
            "height": null,
            "justify_content": null,
            "justify_items": null,
            "left": null,
            "margin": null,
            "max_height": null,
            "max_width": null,
            "min_height": null,
            "min_width": null,
            "object_fit": null,
            "object_position": null,
            "order": null,
            "overflow": null,
            "overflow_x": null,
            "overflow_y": null,
            "padding": null,
            "right": null,
            "top": null,
            "visibility": null,
            "width": null
          }
        },
        "9769cff94c4e464fb161ad9e0ecc429a": {
          "model_module": "@jupyter-widgets/controls",
          "model_name": "DescriptionStyleModel",
          "model_module_version": "1.5.0",
          "state": {
            "_model_module": "@jupyter-widgets/controls",
            "_model_module_version": "1.5.0",
            "_model_name": "DescriptionStyleModel",
            "_view_count": null,
            "_view_module": "@jupyter-widgets/base",
            "_view_module_version": "1.2.0",
            "_view_name": "StyleView",
            "description_width": ""
          }
        }
      }
    }
  },
  "cells": [
    {
      "cell_type": "markdown",
      "metadata": {
        "id": "view-in-github",
        "colab_type": "text"
      },
      "source": [
        "<a href=\"https://colab.research.google.com/github/thanga-v2/Transformers/blob/main/Tokenizers_and_Models.ipynb\" target=\"_parent\"><img src=\"https://colab.research.google.com/assets/colab-badge.svg\" alt=\"Open In Colab\"/></a>"
      ]
    },
    {
      "cell_type": "markdown",
      "source": [
        "In pipeline, we use the model for inference / prediction.\n",
        "\n",
        "same inference for all tasks.\n",
        "\n",
        "breaking down the components of the pipeline\n",
        "\n",
        "Tokenization, token to int mapping , padding.\n",
        "\n",
        "**Pipelines** are composed of\n",
        "Tokenizer and Models\n",
        "\n",
        "\n",
        "![Screenshot 2024-08-27 at 11.17.20 AM.png](data:image/png;base64,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)\n",
        "\n",
        "\n"
      ],
      "metadata": {
        "id": "2vmy7pEWXT7p"
      }
    },
    {
      "cell_type": "markdown",
      "source": [
        "NLP borrowed a technique from computer vision which is to use pre trained\n",
        "weights of large and powerfull models."
      ],
      "metadata": {
        "id": "NEg2NDTDYY-D"
      }
    },
    {
      "cell_type": "markdown",
      "source": [],
      "metadata": {
        "id": "OIqzEpqqZTO8"
      }
    },
    {
      "cell_type": "markdown",
      "source": [
        "**Text Pre processing**\n",
        "\n",
        "Docs -> Tokenize\n",
        "\n",
        "Tokenizing a document can be of splitting a document into words, sub words, characters, punctuations.\n",
        "\n",
        "Map tokens to sequence of Integers\n",
        "\n",
        "\n",
        "\n"
      ],
      "metadata": {
        "id": "Z6fwTW1VZTjP"
      }
    },
    {
      "cell_type": "code",
      "source": [
        "# Autotokenizer will exactly give us the exact tokenizer object based on the check point we pass.\n",
        "\n",
        "from transformers import AutoTokenizer\n",
        "\n",
        "checkpoint = 'bert-base-cased'\n",
        "tokenizer = AutoTokenizer.from_pretrained(checkpoint)"
      ],
      "metadata": {
        "id": "95P-l7lUyzfH"
      },
      "execution_count": 62,
      "outputs": []
    },
    {
      "cell_type": "code",
      "source": [
        "type(tokenizer)"
      ],
      "metadata": {
        "colab": {
          "base_uri": "https://localhost:8080/",
          "height": 395
        },
        "id": "9E3YBkAVz1xQ",
        "outputId": "2fed09ca-dcfa-4c62-cf4c-c58e3c343e8e"
      },
      "execution_count": 63,
      "outputs": [
        {
          "output_type": "execute_result",
          "data": {
            "text/plain": [
              "transformers.models.bert.tokenization_bert_fast.BertTokenizerFast"
            ],
            "text/html": [
              "<div style=\"max-width:800px; border: 1px solid var(--colab-border-color);\"><style>\n",
              "      pre.function-repr-contents {\n",
              "        overflow-x: auto;\n",
              "        padding: 8px 12px;\n",
              "        max-height: 500px;\n",
              "      }\n",
              "\n",
              "      pre.function-repr-contents.function-repr-contents-collapsed {\n",
              "        cursor: pointer;\n",
              "        max-height: 100px;\n",
              "      }\n",
              "    </style>\n",
              "    <pre style=\"white-space: initial; background:\n",
              "         var(--colab-secondary-surface-color); padding: 8px 12px;\n",
              "         border-bottom: 1px solid var(--colab-border-color);\"><b>transformers.models.bert.tokenization_bert_fast.BertTokenizerFast</b><br/>def __call__(text: Union[TextInput, PreTokenizedInput, List[TextInput], List[PreTokenizedInput]]=None, text_pair: Optional[Union[TextInput, PreTokenizedInput, List[TextInput], List[PreTokenizedInput]]]=None, text_target: Union[TextInput, PreTokenizedInput, List[TextInput], List[PreTokenizedInput]]=None, text_pair_target: Optional[Union[TextInput, PreTokenizedInput, List[TextInput], List[PreTokenizedInput]]]=None, add_special_tokens: bool=True, padding: Union[bool, str, PaddingStrategy]=False, truncation: Union[bool, str, TruncationStrategy]=None, max_length: Optional[int]=None, stride: int=0, is_split_into_words: bool=False, pad_to_multiple_of: Optional[int]=None, return_tensors: Optional[Union[str, TensorType]]=None, return_token_type_ids: Optional[bool]=None, return_attention_mask: Optional[bool]=None, return_overflowing_tokens: bool=False, return_special_tokens_mask: bool=False, return_offsets_mapping: bool=False, return_length: bool=False, verbose: bool=True, **kwargs) -&gt; BatchEncoding</pre><pre class=\"function-repr-contents function-repr-contents-collapsed\" style=\"\"><a class=\"filepath\" style=\"display:none\" href=\"#\">/usr/local/lib/python3.10/dist-packages/transformers/models/bert/tokenization_bert_fast.py</a>Construct a &quot;fast&quot; BERT tokenizer (backed by HuggingFace&#x27;s *tokenizers* library). Based on WordPiece.\n",
              "\n",
              "This tokenizer inherits from [`PreTrainedTokenizerFast`] which contains most of the main methods. Users should\n",
              "refer to this superclass for more information regarding those methods.\n",
              "\n",
              "Args:\n",
              "    vocab_file (`str`):\n",
              "        File containing the vocabulary.\n",
              "    do_lower_case (`bool`, *optional*, defaults to `True`):\n",
              "        Whether or not to lowercase the input when tokenizing.\n",
              "    unk_token (`str`, *optional*, defaults to `&quot;[UNK]&quot;`):\n",
              "        The unknown token. A token that is not in the vocabulary cannot be converted to an ID and is set to be this\n",
              "        token instead.\n",
              "    sep_token (`str`, *optional*, defaults to `&quot;[SEP]&quot;`):\n",
              "        The separator token, which is used when building a sequence from multiple sequences, e.g. two sequences for\n",
              "        sequence classification or for a text and a question for question answering. It is also used as the last\n",
              "        token of a sequence built with special tokens.\n",
              "    pad_token (`str`, *optional*, defaults to `&quot;[PAD]&quot;`):\n",
              "        The token used for padding, for example when batching sequences of different lengths.\n",
              "    cls_token (`str`, *optional*, defaults to `&quot;[CLS]&quot;`):\n",
              "        The classifier token which is used when doing sequence classification (classification of the whole sequence\n",
              "        instead of per-token classification). It is the first token of the sequence when built with special tokens.\n",
              "    mask_token (`str`, *optional*, defaults to `&quot;[MASK]&quot;`):\n",
              "        The token used for masking values. This is the token used when training this model with masked language\n",
              "        modeling. This is the token which the model will try to predict.\n",
              "    clean_text (`bool`, *optional*, defaults to `True`):\n",
              "        Whether or not to clean the text before tokenization by removing any control characters and replacing all\n",
              "        whitespaces by the classic one.\n",
              "    tokenize_chinese_chars (`bool`, *optional*, defaults to `True`):\n",
              "        Whether or not to tokenize Chinese characters. This should likely be deactivated for Japanese (see [this\n",
              "        issue](https://github.com/huggingface/transformers/issues/328)).\n",
              "    strip_accents (`bool`, *optional*):\n",
              "        Whether or not to strip all accents. If this option is not specified, then it will be determined by the\n",
              "        value for `lowercase` (as in the original BERT).\n",
              "    wordpieces_prefix (`str`, *optional*, defaults to `&quot;##&quot;`):\n",
              "        The prefix for subwords.</pre>\n",
              "      <script>\n",
              "      if (google.colab.kernel.accessAllowed && google.colab.files && google.colab.files.view) {\n",
              "        for (const element of document.querySelectorAll('.filepath')) {\n",
              "          element.style.display = 'block'\n",
              "          element.onclick = (event) => {\n",
              "            event.preventDefault();\n",
              "            event.stopPropagation();\n",
              "            google.colab.files.view(element.textContent, 32);\n",
              "          };\n",
              "        }\n",
              "      }\n",
              "      for (const element of document.querySelectorAll('.function-repr-contents')) {\n",
              "        element.onclick = (event) => {\n",
              "          event.preventDefault();\n",
              "          event.stopPropagation();\n",
              "          element.classList.toggle('function-repr-contents-collapsed');\n",
              "        };\n",
              "      }\n",
              "      </script>\n",
              "      </div>"
            ]
          },
          "metadata": {},
          "execution_count": 63
        }
      ]
    },
    {
      "cell_type": "code",
      "source": [
        "tokenizer(\"Hi Iam Thangaraj\")"
      ],
      "metadata": {
        "colab": {
          "base_uri": "https://localhost:8080/"
        },
        "id": "JuISmTwAz6bO",
        "outputId": "5642352e-9336-4c11-f390-e04f0e36999b"
      },
      "execution_count": 64,
      "outputs": [
        {
          "output_type": "execute_result",
          "data": {
            "text/plain": [
              "{'input_ids': [101, 8790, 146, 2312, 16062, 17582, 3361, 102], 'token_type_ids': [0, 0, 0, 0, 0, 0, 0, 0], 'attention_mask': [1, 1, 1, 1, 1, 1, 1, 1]}"
            ]
          },
          "metadata": {},
          "execution_count": 64
        }
      ]
    },
    {
      "cell_type": "markdown",
      "source": [
        "**DistilBERT**"
      ],
      "metadata": {
        "id": "wU25sVJF0ozL"
      }
    },
    {
      "cell_type": "code",
      "source": [
        "distilbert_tokenizer = AutoTokenizer.from_pretrained('distilbert-base-uncased')"
      ],
      "metadata": {
        "id": "2T-pbLE90s0N"
      },
      "execution_count": 65,
      "outputs": []
    },
    {
      "cell_type": "code",
      "source": [
        "distilbert_tokenizer(\"Hi Iam Thangaraj\")"
      ],
      "metadata": {
        "colab": {
          "base_uri": "https://localhost:8080/"
        },
        "id": "0-pWy_Ne0-wX",
        "outputId": "79487417-8780-4ea7-b976-dc938b5ab715"
      },
      "execution_count": 66,
      "outputs": [
        {
          "output_type": "execute_result",
          "data": {
            "text/plain": [
              "{'input_ids': [101, 7632, 24264, 2213, 2084, 24864, 3501, 102], 'attention_mask': [1, 1, 1, 1, 1, 1, 1, 1]}"
            ]
          },
          "metadata": {},
          "execution_count": 66
        }
      ]
    },
    {
      "cell_type": "code",
      "source": [
        "gpt2_tokenizer = AutoTokenizer.from_pretrained('gpt2')"
      ],
      "metadata": {
        "id": "yEoCKhWA1FUo"
      },
      "execution_count": 67,
      "outputs": []
    },
    {
      "cell_type": "code",
      "source": [
        "gpt2_tokenizer(\"Hi Iam Thangaraj\")"
      ],
      "metadata": {
        "colab": {
          "base_uri": "https://localhost:8080/"
        },
        "id": "NPo5pKbg1LEI",
        "outputId": "50fca8d4-ffa1-4b51-df1f-d49e7577e532"
      },
      "execution_count": 68,
      "outputs": [
        {
          "output_type": "execute_result",
          "data": {
            "text/plain": [
              "{'input_ids': [17250, 314, 321, 536, 648, 283, 1228], 'attention_mask': [1, 1, 1, 1, 1, 1, 1]}"
            ]
          },
          "metadata": {},
          "execution_count": 68
        }
      ]
    },
    {
      "cell_type": "code",
      "source": [
        "google_electra_tokenizer = AutoTokenizer.from_pretrained('google/electra-small-discriminator')"
      ],
      "metadata": {
        "id": "fXjfpG2V1UDd"
      },
      "execution_count": 69,
      "outputs": []
    },
    {
      "cell_type": "code",
      "source": [
        "google_electra_tokenizer(\"Hi Iam Thangaraj\")"
      ],
      "metadata": {
        "colab": {
          "base_uri": "https://localhost:8080/"
        },
        "id": "cBQmN8Ns1bB8",
        "outputId": "b069f7b0-39ed-4332-b413-409780770463"
      },
      "execution_count": 70,
      "outputs": [
        {
          "output_type": "execute_result",
          "data": {
            "text/plain": [
              "{'input_ids': [101, 7632, 24264, 2213, 2084, 24864, 3501, 102], 'token_type_ids': [0, 0, 0, 0, 0, 0, 0, 0], 'attention_mask': [1, 1, 1, 1, 1, 1, 1, 1]}"
            ]
          },
          "metadata": {},
          "execution_count": 70
        }
      ]
    },
    {
      "cell_type": "code",
      "source": [
        "bert_tokens = tokenizer.tokenize(\"Hi Iam Thangaraj\")\n",
        "token_id = tokenizer.convert_tokens_to_ids(bert_tokens)\n",
        "\n",
        "print(\"Bert Tokens and Id's \\n\", bert_tokens, \"\\n\", token_id)"
      ],
      "metadata": {
        "colab": {
          "base_uri": "https://localhost:8080/"
        },
        "id": "C1BdQL381id8",
        "outputId": "ca517173-d701-4243-9da7-5a1f7f9f46f0"
      },
      "execution_count": 71,
      "outputs": [
        {
          "output_type": "stream",
          "name": "stdout",
          "text": [
            "Bert Tokens and Id's \n",
            " ['Hi', 'I', '##am', 'Than', '##gara', '##j'] \n",
            " [8790, 146, 2312, 16062, 17582, 3361]\n"
          ]
        }
      ]
    },
    {
      "cell_type": "code",
      "source": [
        "distilbert_tokens = distilbert_tokenizer.tokenize(\"Hi Iam Thangaraj\")\n",
        "token_id = distilbert_tokenizer.convert_tokens_to_ids(distilbert_tokens)\n",
        "\n",
        "print(\"distilBert Tokens and Id's \\n\", distilbert_tokens, \"\\n\", token_id)"
      ],
      "metadata": {
        "colab": {
          "base_uri": "https://localhost:8080/"
        },
        "id": "iYAU9o722FN6",
        "outputId": "fa726a7b-3e90-4470-e3a1-0ae620f91ce9"
      },
      "execution_count": 72,
      "outputs": [
        {
          "output_type": "stream",
          "name": "stdout",
          "text": [
            "distilBert Tokens and Id's \n",
            " ['hi', 'ia', '##m', 'than', '##gara', '##j'] \n",
            " [7632, 24264, 2213, 2084, 24864, 3501]\n"
          ]
        }
      ]
    },
    {
      "cell_type": "code",
      "source": [
        "gpt2_tokens = gpt2_tokenizer.tokenize(\"Hi Iam Thangaraj\")\n",
        "id = gpt2_tokenizer.convert_tokens_to_ids(gpt2_tokens)\n",
        "\n",
        "print(\"GPT2 tokens and its Id's \\n\", gpt2_tokens, \"\\n\", id)"
      ],
      "metadata": {
        "colab": {
          "base_uri": "https://localhost:8080/"
        },
        "id": "P0GqDGbH2UJr",
        "outputId": "a2b976cc-2713-40c6-e917-1979a0d0cceb"
      },
      "execution_count": 73,
      "outputs": [
        {
          "output_type": "stream",
          "name": "stdout",
          "text": [
            "GPT2 tokens and its Id's \n",
            " ['Hi', 'ĠI', 'am', 'ĠTh', 'ang', 'ar', 'aj'] \n",
            " [17250, 314, 321, 536, 648, 283, 1228]\n"
          ]
        }
      ]
    },
    {
      "cell_type": "markdown",
      "source": [
        "**Converting back to tokens**"
      ],
      "metadata": {
        "id": "zQakv9Ey3foj"
      }
    },
    {
      "cell_type": "code",
      "source": [
        "tokenizer.convert_ids_to_tokens([8790, 146, 2312, 16062, 17582, 3361])"
      ],
      "metadata": {
        "colab": {
          "base_uri": "https://localhost:8080/"
        },
        "id": "pTqNx_2l3ivt",
        "outputId": "b9d38c32-6847-4a76-b9a7-9ea3ed9c9994"
      },
      "execution_count": 74,
      "outputs": [
        {
          "output_type": "execute_result",
          "data": {
            "text/plain": [
              "['Hi', 'I', '##am', 'Than', '##gara', '##j']"
            ]
          },
          "metadata": {},
          "execution_count": 74
        }
      ]
    },
    {
      "cell_type": "markdown",
      "source": [
        "Or"
      ],
      "metadata": {
        "id": "_FcprJdD359n"
      }
    },
    {
      "cell_type": "code",
      "source": [
        "tokenizer.decode([8790, 146, 2312, 16062, 17582, 3361])"
      ],
      "metadata": {
        "colab": {
          "base_uri": "https://localhost:8080/",
          "height": 35
        },
        "id": "kWmHsKUI36sn",
        "outputId": "eb1ba6b1-dde0-4bdd-a956-595ba0901288"
      },
      "execution_count": 75,
      "outputs": [
        {
          "output_type": "execute_result",
          "data": {
            "text/plain": [
              "'Hi Iam Thangaraj'"
            ],
            "application/vnd.google.colaboratory.intrinsic+json": {
              "type": "string"
            }
          },
          "metadata": {},
          "execution_count": 75
        }
      ]
    },
    {
      "cell_type": "code",
      "source": [
        "data = tokenizer.encode(' Hi Iam encoding this text, so that th text will get converted to vVectors / Integers forthe understanding of machines / Neural networks')"
      ],
      "metadata": {
        "id": "4pzWQD8z4bX6"
      },
      "execution_count": 76,
      "outputs": []
    },
    {
      "cell_type": "code",
      "source": [
        "data"
      ],
      "metadata": {
        "colab": {
          "base_uri": "https://localhost:8080/"
        },
        "id": "CoveWW6L4l6m",
        "outputId": "b6daf267-54de-4824-a5cb-ff6b6af35d39"
      },
      "execution_count": 77,
      "outputs": [
        {
          "output_type": "execute_result",
          "data": {
            "text/plain": [
              "[101,\n",
              " 8790,\n",
              " 146,\n",
              " 2312,\n",
              " 18922,\n",
              " 1142,\n",
              " 3087,\n",
              " 117,\n",
              " 1177,\n",
              " 1115,\n",
              " 24438,\n",
              " 3087,\n",
              " 1209,\n",
              " 1243,\n",
              " 4213,\n",
              " 1106,\n",
              " 191,\n",
              " 2559,\n",
              " 20302,\n",
              " 1116,\n",
              " 120,\n",
              " 1130,\n",
              " 1566,\n",
              " 9915,\n",
              " 5275,\n",
              " 1162,\n",
              " 4287,\n",
              " 1104,\n",
              " 6555,\n",
              " 120,\n",
              " 151,\n",
              " 8816,\n",
              " 1348,\n",
              " 6379,\n",
              " 102]"
            ]
          },
          "metadata": {},
          "execution_count": 77
        }
      ]
    },
    {
      "cell_type": "code",
      "source": [
        "decode_data = tokenizer.decode(data)\n",
        "decode_data"
      ],
      "metadata": {
        "colab": {
          "base_uri": "https://localhost:8080/",
          "height": 35
        },
        "id": "fbhVCZTM4ooW",
        "outputId": "808f6040-0cd6-45bf-cf78-8e06f78ee078"
      },
      "execution_count": 78,
      "outputs": [
        {
          "output_type": "execute_result",
          "data": {
            "text/plain": [
              "'[CLS] Hi Iam encoding this text, so that th text will get converted to vVectors / Integers forthe understanding of machines / Neural networks [SEP]'"
            ],
            "application/vnd.google.colaboratory.intrinsic+json": {
              "type": "string"
            }
          },
          "metadata": {},
          "execution_count": 78
        }
      ]
    },
    {
      "cell_type": "code",
      "source": [
        "# On Pytorch\n",
        "\n",
        "tokenizer.tokenize(\"Testing in pytorch\", return_tensors='pt')"
      ],
      "metadata": {
        "colab": {
          "base_uri": "https://localhost:8080/"
        },
        "id": "-hjbBxp052C6",
        "outputId": "c8d8ee0f-65ed-4aa9-b541-fb811897157d"
      },
      "execution_count": 79,
      "outputs": [
        {
          "output_type": "execute_result",
          "data": {
            "text/plain": [
              "['Testing', 'in', 'p', '##yt', '##or', '##ch']"
            ]
          },
          "metadata": {},
          "execution_count": 79
        }
      ]
    },
    {
      "cell_type": "code",
      "source": [
        "tokenizer.tokenize(\"Testing in pytorch\")"
      ],
      "metadata": {
        "colab": {
          "base_uri": "https://localhost:8080/"
        },
        "id": "NDBZrhJS6Biv",
        "outputId": "0eb0ba91-974d-449b-9aea-27c52c64c1d8"
      },
      "execution_count": 80,
      "outputs": [
        {
          "output_type": "execute_result",
          "data": {
            "text/plain": [
              "['Testing', 'in', 'p', '##yt', '##or', '##ch']"
            ]
          },
          "metadata": {},
          "execution_count": 80
        }
      ]
    },
    {
      "cell_type": "code",
      "source": [
        "data = [\n",
        "    \"testing\",\n",
        "    \"in\",\n",
        "    \"pytorch\",\n",
        "]"
      ],
      "metadata": {
        "id": "e3pXkIjJ6EwN"
      },
      "execution_count": 81,
      "outputs": []
    },
    {
      "cell_type": "code",
      "source": [
        "tokenizer.tokenize(data)"
      ],
      "metadata": {
        "colab": {
          "base_uri": "https://localhost:8080/",
          "height": 321
        },
        "id": "91JSdeQZ6TIx",
        "outputId": "c2e95249-a7be-40b1-bf9a-7d8fb07c32a5"
      },
      "execution_count": 82,
      "outputs": [
        {
          "output_type": "error",
          "ename": "TypeError",
          "evalue": "TextEncodeInput must be Union[TextInputSequence, Tuple[InputSequence, InputSequence]]",
          "traceback": [
            "\u001b[0;31m---------------------------------------------------------------------------\u001b[0m",
            "\u001b[0;31mTypeError\u001b[0m                                 Traceback (most recent call last)",
            "\u001b[0;32m<ipython-input-82-ab667306845c>\u001b[0m in \u001b[0;36m<cell line: 1>\u001b[0;34m()\u001b[0m\n\u001b[0;32m----> 1\u001b[0;31m \u001b[0mtokenizer\u001b[0m\u001b[0;34m.\u001b[0m\u001b[0mtokenize\u001b[0m\u001b[0;34m(\u001b[0m\u001b[0mdata\u001b[0m\u001b[0;34m)\u001b[0m\u001b[0;34m\u001b[0m\u001b[0;34m\u001b[0m\u001b[0m\n\u001b[0m",
            "\u001b[0;32m/usr/local/lib/python3.10/dist-packages/transformers/tokenization_utils_fast.py\u001b[0m in \u001b[0;36mtokenize\u001b[0;34m(self, text, pair, add_special_tokens, **kwargs)\u001b[0m\n\u001b[1;32m    414\u001b[0m \u001b[0;34m\u001b[0m\u001b[0m\n\u001b[1;32m    415\u001b[0m     \u001b[0;32mdef\u001b[0m \u001b[0mtokenize\u001b[0m\u001b[0;34m(\u001b[0m\u001b[0mself\u001b[0m\u001b[0;34m,\u001b[0m \u001b[0mtext\u001b[0m\u001b[0;34m:\u001b[0m \u001b[0mstr\u001b[0m\u001b[0;34m,\u001b[0m \u001b[0mpair\u001b[0m\u001b[0;34m:\u001b[0m \u001b[0mOptional\u001b[0m\u001b[0;34m[\u001b[0m\u001b[0mstr\u001b[0m\u001b[0;34m]\u001b[0m \u001b[0;34m=\u001b[0m \u001b[0;32mNone\u001b[0m\u001b[0;34m,\u001b[0m \u001b[0madd_special_tokens\u001b[0m\u001b[0;34m:\u001b[0m \u001b[0mbool\u001b[0m \u001b[0;34m=\u001b[0m \u001b[0;32mFalse\u001b[0m\u001b[0;34m,\u001b[0m \u001b[0;34m**\u001b[0m\u001b[0mkwargs\u001b[0m\u001b[0;34m)\u001b[0m \u001b[0;34m->\u001b[0m \u001b[0mList\u001b[0m\u001b[0;34m[\u001b[0m\u001b[0mstr\u001b[0m\u001b[0;34m]\u001b[0m\u001b[0;34m:\u001b[0m\u001b[0;34m\u001b[0m\u001b[0;34m\u001b[0m\u001b[0m\n\u001b[0;32m--> 416\u001b[0;31m         \u001b[0;32mreturn\u001b[0m \u001b[0mself\u001b[0m\u001b[0;34m.\u001b[0m\u001b[0mencode_plus\u001b[0m\u001b[0;34m(\u001b[0m\u001b[0mtext\u001b[0m\u001b[0;34m=\u001b[0m\u001b[0mtext\u001b[0m\u001b[0;34m,\u001b[0m \u001b[0mtext_pair\u001b[0m\u001b[0;34m=\u001b[0m\u001b[0mpair\u001b[0m\u001b[0;34m,\u001b[0m \u001b[0madd_special_tokens\u001b[0m\u001b[0;34m=\u001b[0m\u001b[0madd_special_tokens\u001b[0m\u001b[0;34m,\u001b[0m \u001b[0;34m**\u001b[0m\u001b[0mkwargs\u001b[0m\u001b[0;34m)\u001b[0m\u001b[0;34m.\u001b[0m\u001b[0mtokens\u001b[0m\u001b[0;34m(\u001b[0m\u001b[0;34m)\u001b[0m\u001b[0;34m\u001b[0m\u001b[0;34m\u001b[0m\u001b[0m\n\u001b[0m\u001b[1;32m    417\u001b[0m \u001b[0;34m\u001b[0m\u001b[0m\n\u001b[1;32m    418\u001b[0m     def set_truncation_and_padding(\n",
            "\u001b[0;32m/usr/local/lib/python3.10/dist-packages/transformers/tokenization_utils_base.py\u001b[0m in \u001b[0;36mencode_plus\u001b[0;34m(self, text, text_pair, add_special_tokens, padding, truncation, max_length, stride, is_split_into_words, pad_to_multiple_of, return_tensors, return_token_type_ids, return_attention_mask, return_overflowing_tokens, return_special_tokens_mask, return_offsets_mapping, return_length, verbose, **kwargs)\u001b[0m\n\u001b[1;32m   3125\u001b[0m         )\n\u001b[1;32m   3126\u001b[0m \u001b[0;34m\u001b[0m\u001b[0m\n\u001b[0;32m-> 3127\u001b[0;31m         return self._encode_plus(\n\u001b[0m\u001b[1;32m   3128\u001b[0m             \u001b[0mtext\u001b[0m\u001b[0;34m=\u001b[0m\u001b[0mtext\u001b[0m\u001b[0;34m,\u001b[0m\u001b[0;34m\u001b[0m\u001b[0;34m\u001b[0m\u001b[0m\n\u001b[1;32m   3129\u001b[0m             \u001b[0mtext_pair\u001b[0m\u001b[0;34m=\u001b[0m\u001b[0mtext_pair\u001b[0m\u001b[0;34m,\u001b[0m\u001b[0;34m\u001b[0m\u001b[0;34m\u001b[0m\u001b[0m\n",
            "\u001b[0;32m/usr/local/lib/python3.10/dist-packages/transformers/tokenization_utils_fast.py\u001b[0m in \u001b[0;36m_encode_plus\u001b[0;34m(self, text, text_pair, add_special_tokens, padding_strategy, truncation_strategy, max_length, stride, is_split_into_words, pad_to_multiple_of, return_tensors, return_token_type_ids, return_attention_mask, return_overflowing_tokens, return_special_tokens_mask, return_offsets_mapping, return_length, verbose, split_special_tokens, **kwargs)\u001b[0m\n\u001b[1;32m    599\u001b[0m     ) -> BatchEncoding:\n\u001b[1;32m    600\u001b[0m         \u001b[0mbatched_input\u001b[0m \u001b[0;34m=\u001b[0m \u001b[0;34m[\u001b[0m\u001b[0;34m(\u001b[0m\u001b[0mtext\u001b[0m\u001b[0;34m,\u001b[0m \u001b[0mtext_pair\u001b[0m\u001b[0;34m)\u001b[0m\u001b[0;34m]\u001b[0m \u001b[0;32mif\u001b[0m \u001b[0mtext_pair\u001b[0m \u001b[0;32melse\u001b[0m \u001b[0;34m[\u001b[0m\u001b[0mtext\u001b[0m\u001b[0;34m]\u001b[0m\u001b[0;34m\u001b[0m\u001b[0;34m\u001b[0m\u001b[0m\n\u001b[0;32m--> 601\u001b[0;31m         batched_output = self._batch_encode_plus(\n\u001b[0m\u001b[1;32m    602\u001b[0m             \u001b[0mbatched_input\u001b[0m\u001b[0;34m,\u001b[0m\u001b[0;34m\u001b[0m\u001b[0;34m\u001b[0m\u001b[0m\n\u001b[1;32m    603\u001b[0m             \u001b[0mis_split_into_words\u001b[0m\u001b[0;34m=\u001b[0m\u001b[0mis_split_into_words\u001b[0m\u001b[0;34m,\u001b[0m\u001b[0;34m\u001b[0m\u001b[0;34m\u001b[0m\u001b[0m\n",
            "\u001b[0;32m/usr/local/lib/python3.10/dist-packages/transformers/tokenization_utils_fast.py\u001b[0m in \u001b[0;36m_batch_encode_plus\u001b[0;34m(self, batch_text_or_text_pairs, add_special_tokens, padding_strategy, truncation_strategy, max_length, stride, is_split_into_words, pad_to_multiple_of, return_tensors, return_token_type_ids, return_attention_mask, return_overflowing_tokens, return_special_tokens_mask, return_offsets_mapping, return_length, verbose, split_special_tokens)\u001b[0m\n\u001b[1;32m    526\u001b[0m             \u001b[0mself\u001b[0m\u001b[0;34m.\u001b[0m\u001b[0m_tokenizer\u001b[0m\u001b[0;34m.\u001b[0m\u001b[0mencode_special_tokens\u001b[0m \u001b[0;34m=\u001b[0m \u001b[0msplit_special_tokens\u001b[0m\u001b[0;34m\u001b[0m\u001b[0;34m\u001b[0m\u001b[0m\n\u001b[1;32m    527\u001b[0m \u001b[0;34m\u001b[0m\u001b[0m\n\u001b[0;32m--> 528\u001b[0;31m         encodings = self._tokenizer.encode_batch(\n\u001b[0m\u001b[1;32m    529\u001b[0m             \u001b[0mbatch_text_or_text_pairs\u001b[0m\u001b[0;34m,\u001b[0m\u001b[0;34m\u001b[0m\u001b[0;34m\u001b[0m\u001b[0m\n\u001b[1;32m    530\u001b[0m             \u001b[0madd_special_tokens\u001b[0m\u001b[0;34m=\u001b[0m\u001b[0madd_special_tokens\u001b[0m\u001b[0;34m,\u001b[0m\u001b[0;34m\u001b[0m\u001b[0;34m\u001b[0m\u001b[0m\n",
            "\u001b[0;31mTypeError\u001b[0m: TextEncodeInput must be Union[TextInputSequence, Tuple[InputSequence, InputSequence]]"
          ]
        }
      ]
    },
    {
      "cell_type": "code",
      "source": [
        "# padding and truncations\n",
        "\n",
        "# input sequences should have of same length\n",
        "\n",
        "model_inputs = tokenizer(data, padding=True, truncation=True)\n",
        "model_inputs"
      ],
      "metadata": {
        "colab": {
          "base_uri": "https://localhost:8080/"
        },
        "id": "m75cgOs37VZh",
        "outputId": "128dea29-c77c-49a9-92fe-64974c7379f4"
      },
      "execution_count": 86,
      "outputs": [
        {
          "output_type": "execute_result",
          "data": {
            "text/plain": [
              "{'input_ids': [[101, 5193, 102, 0, 0, 0], [101, 1107, 102, 0, 0, 0], [101, 185, 25669, 1766, 1732, 102]], 'token_type_ids': [[0, 0, 0, 0, 0, 0], [0, 0, 0, 0, 0, 0], [0, 0, 0, 0, 0, 0]], 'attention_mask': [[1, 1, 1, 0, 0, 0], [1, 1, 1, 0, 0, 0], [1, 1, 1, 1, 1, 1]]}"
            ]
          },
          "metadata": {},
          "execution_count": 86
        }
      ]
    },
    {
      "cell_type": "code",
      "source": [
        "# padding and truncations\n",
        "\n",
        "# input sequences should have of same length\n",
        "\n",
        "tensor_inputs = tokenizer(data, padding=True, truncation=True, return_tensors='pt')\n",
        "tensor_inputs"
      ],
      "metadata": {
        "colab": {
          "base_uri": "https://localhost:8080/"
        },
        "id": "Gf4D_ywdJu1E",
        "outputId": "71eaf821-2b54-4291-d419-cfd7e88e2e1b"
      },
      "execution_count": 87,
      "outputs": [
        {
          "output_type": "execute_result",
          "data": {
            "text/plain": [
              "{'input_ids': tensor([[  101,  5193,   102,     0,     0,     0],\n",
              "        [  101,  1107,   102,     0,     0,     0],\n",
              "        [  101,   185, 25669,  1766,  1732,   102]]), 'token_type_ids': tensor([[0, 0, 0, 0, 0, 0],\n",
              "        [0, 0, 0, 0, 0, 0],\n",
              "        [0, 0, 0, 0, 0, 0]]), 'attention_mask': tensor([[1, 1, 1, 0, 0, 0],\n",
              "        [1, 1, 1, 0, 0, 0],\n",
              "        [1, 1, 1, 1, 1, 1]])}"
            ]
          },
          "metadata": {},
          "execution_count": 87
        }
      ]
    },
    {
      "cell_type": "markdown",
      "source": [
        "attention mask tells the model where it should pay attention to\n",
        "\n",
        "'attention_mask': tensor([[1, 1, 1, 0, 0, 0],\n",
        "        [1, 1, 1, 0, 0, 0],\n",
        "        [1, 1, 1, 1, 1, 1]])\n",
        "\n",
        "        0 - will ignore the tokens\n",
        "        "
      ],
      "metadata": {
        "id": "VLCAquydJ9ST"
      }
    },
    {
      "cell_type": "markdown",
      "source": [
        "Model Outputs\n",
        "\n",
        "\n",
        "Pytorch - Classifier with K class\n",
        "\n",
        "we will be getting a pytorch tensors with k predictions"
      ],
      "metadata": {
        "id": "YJdzhXObL2f0"
      }
    },
    {
      "cell_type": "code",
      "source": [
        "bert_tokens = tokenizer.tokenize(\"hello world\")\n",
        "token_id = tokenizer.convert_tokens_to_ids(bert_tokens)\n",
        "\n",
        "print(\"Bert Tokens and Id's \\n\", bert_tokens, \"\\n\", token_id)"
      ],
      "metadata": {
        "colab": {
          "base_uri": "https://localhost:8080/"
        },
        "id": "yr4om2VoM4SK",
        "outputId": "5cd4bddb-608f-409a-e809-1e92b76bd158"
      },
      "execution_count": 89,
      "outputs": [
        {
          "output_type": "stream",
          "name": "stdout",
          "text": [
            "Bert Tokens and Id's \n",
            " ['hello', 'world'] \n",
            " [19082, 1362]\n"
          ]
        }
      ]
    },
    {
      "cell_type": "code",
      "source": [
        "tokenizer.convert_ids_to_tokens(token_id)"
      ],
      "metadata": {
        "colab": {
          "base_uri": "https://localhost:8080/"
        },
        "id": "9aqrw9sqNFDF",
        "outputId": "f6f728f2-cb10-4398-9b3c-829ec26dc347"
      },
      "execution_count": 91,
      "outputs": [
        {
          "output_type": "execute_result",
          "data": {
            "text/plain": [
              "['hello', 'world']"
            ]
          },
          "metadata": {},
          "execution_count": 91
        }
      ]
    },
    {
      "cell_type": "code",
      "source": [
        "tokenizer.decode(token_id)"
      ],
      "metadata": {
        "colab": {
          "base_uri": "https://localhost:8080/",
          "height": 35
        },
        "id": "XDS7CUGrNNbX",
        "outputId": "d07a2929-b060-4fa4-8092-00efa71e5e69"
      },
      "execution_count": 92,
      "outputs": [
        {
          "output_type": "execute_result",
          "data": {
            "text/plain": [
              "'hello world'"
            ],
            "application/vnd.google.colaboratory.intrinsic+json": {
              "type": "string"
            }
          },
          "metadata": {},
          "execution_count": 92
        }
      ]
    },
    {
      "cell_type": "markdown",
      "source": [
        "    encode() - adds the special sncode [CLS] [SEP]"
      ],
      "metadata": {
        "id": "X1GqQAyyNczs"
      }
    },
    {
      "cell_type": "code",
      "source": [
        "hello = \"hello thanga\"\n",
        "tokenizer.encode(hello)"
      ],
      "metadata": {
        "colab": {
          "base_uri": "https://localhost:8080/"
        },
        "id": "fOOzGrAUNnhZ",
        "outputId": "2d2331c6-1948-4ab5-dd10-110e27bfdcb6"
      },
      "execution_count": 94,
      "outputs": [
        {
          "output_type": "execute_result",
          "data": {
            "text/plain": [
              "[101, 19082, 1190, 2571, 102]"
            ]
          },
          "metadata": {},
          "execution_count": 94
        }
      ]
    },
    {
      "cell_type": "code",
      "source": [
        "tokenizer.tokenize(hello)"
      ],
      "metadata": {
        "colab": {
          "base_uri": "https://localhost:8080/"
        },
        "id": "__ml86t3N2A1",
        "outputId": "46c93422-3e87-4336-826f-1b4da556c56c"
      },
      "execution_count": 103,
      "outputs": [
        {
          "output_type": "execute_result",
          "data": {
            "text/plain": [
              "['hello', 'than', '##ga']"
            ]
          },
          "metadata": {},
          "execution_count": 103
        }
      ]
    },
    {
      "cell_type": "code",
      "source": [
        "tokenizer.convert_ids_to_tokens([101, 19082, 1190, 2571, 102])"
      ],
      "metadata": {
        "colab": {
          "base_uri": "https://localhost:8080/"
        },
        "id": "pmuQro3FOS1Y",
        "outputId": "d264ccd7-1f3b-43f2-afa1-59ccd9af0e9c"
      },
      "execution_count": 105,
      "outputs": [
        {
          "output_type": "execute_result",
          "data": {
            "text/plain": [
              "['[CLS]', 'hello', 'than', '##ga', '[SEP]']"
            ]
          },
          "metadata": {},
          "execution_count": 105
        }
      ]
    },
    {
      "cell_type": "code",
      "source": [
        "tokenizer.decode([101, 19082, 1190, 2571, 102])"
      ],
      "metadata": {
        "colab": {
          "base_uri": "https://localhost:8080/",
          "height": 35
        },
        "id": "8wfVNQ3ZNuuw",
        "outputId": "34b8ae9e-26ba-4238-cc93-7d2dd8350c7e"
      },
      "execution_count": 101,
      "outputs": [
        {
          "output_type": "execute_result",
          "data": {
            "text/plain": [
              "'[CLS] hello thanga [SEP]'"
            ],
            "application/vnd.google.colaboratory.intrinsic+json": {
              "type": "string"
            }
          },
          "metadata": {},
          "execution_count": 101
        }
      ]
    },
    {
      "cell_type": "code",
      "source": [
        "tokenizer(\"hi hello test\")"
      ],
      "metadata": {
        "colab": {
          "base_uri": "https://localhost:8080/"
        },
        "id": "QdXGvxDwOx-B",
        "outputId": "5d9e2694-75d7-4cde-fba9-2f7a73ff5b28"
      },
      "execution_count": 109,
      "outputs": [
        {
          "output_type": "execute_result",
          "data": {
            "text/plain": [
              "{'input_ids': [101, 20844, 19082, 2774, 102], 'token_type_ids': [0, 0, 0, 0, 0], 'attention_mask': [1, 1, 1, 1, 1]}"
            ]
          },
          "metadata": {},
          "execution_count": 109
        }
      ]
    },
    {
      "cell_type": "code",
      "source": [
        "model_input = tokenizer(\"this is my model input\")\n",
        "model_input"
      ],
      "metadata": {
        "colab": {
          "base_uri": "https://localhost:8080/"
        },
        "id": "y1CIA98kQBpZ",
        "outputId": "91abf8e1-8ed0-4a04-b598-77bf72fa93dd"
      },
      "execution_count": 110,
      "outputs": [
        {
          "output_type": "execute_result",
          "data": {
            "text/plain": [
              "{'input_ids': [101, 1142, 1110, 1139, 2235, 7758, 102], 'token_type_ids': [0, 0, 0, 0, 0, 0, 0], 'attention_mask': [1, 1, 1, 1, 1, 1, 1]}"
            ]
          },
          "metadata": {},
          "execution_count": 110
        }
      ]
    },
    {
      "cell_type": "code",
      "source": [
        "from transformers import AutoModelForSequenceClassification"
      ],
      "metadata": {
        "id": "inKT4OjkQSvU"
      },
      "execution_count": 111,
      "outputs": []
    },
    {
      "cell_type": "code",
      "source": [
        "model = AutoModelForSequenceClassification.from_pretrained(checkpoint)"
      ],
      "metadata": {
        "colab": {
          "base_uri": "https://localhost:8080/",
          "height": 84,
          "referenced_widgets": [
            "15a1ee7d72cd4b399a416ae148152c7f",
            "f111c7700ff748aeb37ab3e0d014b3ba",
            "568d5a4875ae4f79b66280f03ce71579",
            "3a5c864b0fe94b3087c3e6f34e3ebd8f",
            "9c8a5b1e43654bd2925538d4b6a889d0",
            "c5728794ff734ad2bc0fda0d614fc7d4",
            "2122236062f244569c1b01c2cd479636",
            "38d9b5b84e524ec3b974bc8c65120312",
            "32d6856ec2b046c29462bcd5b3a27c12",
            "69faefb5ac2d4798bfe159d149da6bec",
            "9769cff94c4e464fb161ad9e0ecc429a"
          ]
        },
        "id": "yRzAXhl_QZK5",
        "outputId": "3699940b-2d1f-4fd3-eebc-81480004d51d"
      },
      "execution_count": 113,
      "outputs": [
        {
          "output_type": "display_data",
          "data": {
            "text/plain": [
              "model.safetensors:   0%|          | 0.00/436M [00:00<?, ?B/s]"
            ],
            "application/vnd.jupyter.widget-view+json": {
              "version_major": 2,
              "version_minor": 0,
              "model_id": "15a1ee7d72cd4b399a416ae148152c7f"
            }
          },
          "metadata": {}
        },
        {
          "output_type": "stream",
          "name": "stderr",
          "text": [
            "Some weights of BertForSequenceClassification were not initialized from the model checkpoint at bert-base-cased and are newly initialized: ['classifier.bias', 'classifier.weight']\n",
            "You should probably TRAIN this model on a down-stream task to be able to use it for predictions and inference.\n"
          ]
        }
      ]
    },
    {
      "cell_type": "code",
      "source": [
        "outputs = model(**model_input)"
      ],
      "metadata": {
        "colab": {
          "base_uri": "https://localhost:8080/",
          "height": 304
        },
        "id": "dMWNSfKZQ6iP",
        "outputId": "67481c81-511c-41a9-ea90-f9c83c84388b"
      },
      "execution_count": 114,
      "outputs": [
        {
          "output_type": "error",
          "ename": "AttributeError",
          "evalue": "'list' object has no attribute 'size'",
          "traceback": [
            "\u001b[0;31m---------------------------------------------------------------------------\u001b[0m",
            "\u001b[0;31mAttributeError\u001b[0m                            Traceback (most recent call last)",
            "\u001b[0;32m<ipython-input-114-24340440689e>\u001b[0m in \u001b[0;36m<cell line: 1>\u001b[0;34m()\u001b[0m\n\u001b[0;32m----> 1\u001b[0;31m \u001b[0moutputs\u001b[0m \u001b[0;34m=\u001b[0m \u001b[0mmodel\u001b[0m\u001b[0;34m(\u001b[0m\u001b[0;34m**\u001b[0m\u001b[0mmodel_input\u001b[0m\u001b[0;34m)\u001b[0m\u001b[0;34m\u001b[0m\u001b[0;34m\u001b[0m\u001b[0m\n\u001b[0m",
            "\u001b[0;32m/usr/local/lib/python3.10/dist-packages/torch/nn/modules/module.py\u001b[0m in \u001b[0;36m_wrapped_call_impl\u001b[0;34m(self, *args, **kwargs)\u001b[0m\n\u001b[1;32m   1551\u001b[0m             \u001b[0;32mreturn\u001b[0m \u001b[0mself\u001b[0m\u001b[0;34m.\u001b[0m\u001b[0m_compiled_call_impl\u001b[0m\u001b[0;34m(\u001b[0m\u001b[0;34m*\u001b[0m\u001b[0margs\u001b[0m\u001b[0;34m,\u001b[0m \u001b[0;34m**\u001b[0m\u001b[0mkwargs\u001b[0m\u001b[0;34m)\u001b[0m  \u001b[0;31m# type: ignore[misc]\u001b[0m\u001b[0;34m\u001b[0m\u001b[0;34m\u001b[0m\u001b[0m\n\u001b[1;32m   1552\u001b[0m         \u001b[0;32melse\u001b[0m\u001b[0;34m:\u001b[0m\u001b[0;34m\u001b[0m\u001b[0;34m\u001b[0m\u001b[0m\n\u001b[0;32m-> 1553\u001b[0;31m             \u001b[0;32mreturn\u001b[0m \u001b[0mself\u001b[0m\u001b[0;34m.\u001b[0m\u001b[0m_call_impl\u001b[0m\u001b[0;34m(\u001b[0m\u001b[0;34m*\u001b[0m\u001b[0margs\u001b[0m\u001b[0;34m,\u001b[0m \u001b[0;34m**\u001b[0m\u001b[0mkwargs\u001b[0m\u001b[0;34m)\u001b[0m\u001b[0;34m\u001b[0m\u001b[0;34m\u001b[0m\u001b[0m\n\u001b[0m\u001b[1;32m   1554\u001b[0m \u001b[0;34m\u001b[0m\u001b[0m\n\u001b[1;32m   1555\u001b[0m     \u001b[0;32mdef\u001b[0m \u001b[0m_call_impl\u001b[0m\u001b[0;34m(\u001b[0m\u001b[0mself\u001b[0m\u001b[0;34m,\u001b[0m \u001b[0;34m*\u001b[0m\u001b[0margs\u001b[0m\u001b[0;34m,\u001b[0m \u001b[0;34m**\u001b[0m\u001b[0mkwargs\u001b[0m\u001b[0;34m)\u001b[0m\u001b[0;34m:\u001b[0m\u001b[0;34m\u001b[0m\u001b[0;34m\u001b[0m\u001b[0m\n",
            "\u001b[0;32m/usr/local/lib/python3.10/dist-packages/torch/nn/modules/module.py\u001b[0m in \u001b[0;36m_call_impl\u001b[0;34m(self, *args, **kwargs)\u001b[0m\n\u001b[1;32m   1560\u001b[0m                 \u001b[0;32mor\u001b[0m \u001b[0m_global_backward_pre_hooks\u001b[0m \u001b[0;32mor\u001b[0m \u001b[0m_global_backward_hooks\u001b[0m\u001b[0;34m\u001b[0m\u001b[0;34m\u001b[0m\u001b[0m\n\u001b[1;32m   1561\u001b[0m                 or _global_forward_hooks or _global_forward_pre_hooks):\n\u001b[0;32m-> 1562\u001b[0;31m             \u001b[0;32mreturn\u001b[0m \u001b[0mforward_call\u001b[0m\u001b[0;34m(\u001b[0m\u001b[0;34m*\u001b[0m\u001b[0margs\u001b[0m\u001b[0;34m,\u001b[0m \u001b[0;34m**\u001b[0m\u001b[0mkwargs\u001b[0m\u001b[0;34m)\u001b[0m\u001b[0;34m\u001b[0m\u001b[0;34m\u001b[0m\u001b[0m\n\u001b[0m\u001b[1;32m   1563\u001b[0m \u001b[0;34m\u001b[0m\u001b[0m\n\u001b[1;32m   1564\u001b[0m         \u001b[0;32mtry\u001b[0m\u001b[0;34m:\u001b[0m\u001b[0;34m\u001b[0m\u001b[0;34m\u001b[0m\u001b[0m\n",
            "\u001b[0;32m/usr/local/lib/python3.10/dist-packages/transformers/models/bert/modeling_bert.py\u001b[0m in \u001b[0;36mforward\u001b[0;34m(self, input_ids, attention_mask, token_type_ids, position_ids, head_mask, inputs_embeds, labels, output_attentions, output_hidden_states, return_dict)\u001b[0m\n\u001b[1;32m   1693\u001b[0m         \u001b[0mreturn_dict\u001b[0m \u001b[0;34m=\u001b[0m \u001b[0mreturn_dict\u001b[0m \u001b[0;32mif\u001b[0m \u001b[0mreturn_dict\u001b[0m \u001b[0;32mis\u001b[0m \u001b[0;32mnot\u001b[0m \u001b[0;32mNone\u001b[0m \u001b[0;32melse\u001b[0m \u001b[0mself\u001b[0m\u001b[0;34m.\u001b[0m\u001b[0mconfig\u001b[0m\u001b[0;34m.\u001b[0m\u001b[0muse_return_dict\u001b[0m\u001b[0;34m\u001b[0m\u001b[0;34m\u001b[0m\u001b[0m\n\u001b[1;32m   1694\u001b[0m \u001b[0;34m\u001b[0m\u001b[0m\n\u001b[0;32m-> 1695\u001b[0;31m         outputs = self.bert(\n\u001b[0m\u001b[1;32m   1696\u001b[0m             \u001b[0minput_ids\u001b[0m\u001b[0;34m,\u001b[0m\u001b[0;34m\u001b[0m\u001b[0;34m\u001b[0m\u001b[0m\n\u001b[1;32m   1697\u001b[0m             \u001b[0mattention_mask\u001b[0m\u001b[0;34m=\u001b[0m\u001b[0mattention_mask\u001b[0m\u001b[0;34m,\u001b[0m\u001b[0;34m\u001b[0m\u001b[0;34m\u001b[0m\u001b[0m\n",
            "\u001b[0;32m/usr/local/lib/python3.10/dist-packages/torch/nn/modules/module.py\u001b[0m in \u001b[0;36m_wrapped_call_impl\u001b[0;34m(self, *args, **kwargs)\u001b[0m\n\u001b[1;32m   1551\u001b[0m             \u001b[0;32mreturn\u001b[0m \u001b[0mself\u001b[0m\u001b[0;34m.\u001b[0m\u001b[0m_compiled_call_impl\u001b[0m\u001b[0;34m(\u001b[0m\u001b[0;34m*\u001b[0m\u001b[0margs\u001b[0m\u001b[0;34m,\u001b[0m \u001b[0;34m**\u001b[0m\u001b[0mkwargs\u001b[0m\u001b[0;34m)\u001b[0m  \u001b[0;31m# type: ignore[misc]\u001b[0m\u001b[0;34m\u001b[0m\u001b[0;34m\u001b[0m\u001b[0m\n\u001b[1;32m   1552\u001b[0m         \u001b[0;32melse\u001b[0m\u001b[0;34m:\u001b[0m\u001b[0;34m\u001b[0m\u001b[0;34m\u001b[0m\u001b[0m\n\u001b[0;32m-> 1553\u001b[0;31m             \u001b[0;32mreturn\u001b[0m \u001b[0mself\u001b[0m\u001b[0;34m.\u001b[0m\u001b[0m_call_impl\u001b[0m\u001b[0;34m(\u001b[0m\u001b[0;34m*\u001b[0m\u001b[0margs\u001b[0m\u001b[0;34m,\u001b[0m \u001b[0;34m**\u001b[0m\u001b[0mkwargs\u001b[0m\u001b[0;34m)\u001b[0m\u001b[0;34m\u001b[0m\u001b[0;34m\u001b[0m\u001b[0m\n\u001b[0m\u001b[1;32m   1554\u001b[0m \u001b[0;34m\u001b[0m\u001b[0m\n\u001b[1;32m   1555\u001b[0m     \u001b[0;32mdef\u001b[0m \u001b[0m_call_impl\u001b[0m\u001b[0;34m(\u001b[0m\u001b[0mself\u001b[0m\u001b[0;34m,\u001b[0m \u001b[0;34m*\u001b[0m\u001b[0margs\u001b[0m\u001b[0;34m,\u001b[0m \u001b[0;34m**\u001b[0m\u001b[0mkwargs\u001b[0m\u001b[0;34m)\u001b[0m\u001b[0;34m:\u001b[0m\u001b[0;34m\u001b[0m\u001b[0;34m\u001b[0m\u001b[0m\n",
            "\u001b[0;32m/usr/local/lib/python3.10/dist-packages/torch/nn/modules/module.py\u001b[0m in \u001b[0;36m_call_impl\u001b[0;34m(self, *args, **kwargs)\u001b[0m\n\u001b[1;32m   1560\u001b[0m                 \u001b[0;32mor\u001b[0m \u001b[0m_global_backward_pre_hooks\u001b[0m \u001b[0;32mor\u001b[0m \u001b[0m_global_backward_hooks\u001b[0m\u001b[0;34m\u001b[0m\u001b[0;34m\u001b[0m\u001b[0m\n\u001b[1;32m   1561\u001b[0m                 or _global_forward_hooks or _global_forward_pre_hooks):\n\u001b[0;32m-> 1562\u001b[0;31m             \u001b[0;32mreturn\u001b[0m \u001b[0mforward_call\u001b[0m\u001b[0;34m(\u001b[0m\u001b[0;34m*\u001b[0m\u001b[0margs\u001b[0m\u001b[0;34m,\u001b[0m \u001b[0;34m**\u001b[0m\u001b[0mkwargs\u001b[0m\u001b[0;34m)\u001b[0m\u001b[0;34m\u001b[0m\u001b[0;34m\u001b[0m\u001b[0m\n\u001b[0m\u001b[1;32m   1563\u001b[0m \u001b[0;34m\u001b[0m\u001b[0m\n\u001b[1;32m   1564\u001b[0m         \u001b[0;32mtry\u001b[0m\u001b[0;34m:\u001b[0m\u001b[0;34m\u001b[0m\u001b[0;34m\u001b[0m\u001b[0m\n",
            "\u001b[0;32m/usr/local/lib/python3.10/dist-packages/transformers/models/bert/modeling_bert.py\u001b[0m in \u001b[0;36mforward\u001b[0;34m(self, input_ids, attention_mask, token_type_ids, position_ids, head_mask, inputs_embeds, encoder_hidden_states, encoder_attention_mask, past_key_values, use_cache, output_attentions, output_hidden_states, return_dict)\u001b[0m\n\u001b[1;32m   1055\u001b[0m         \u001b[0;32melif\u001b[0m \u001b[0minput_ids\u001b[0m \u001b[0;32mis\u001b[0m \u001b[0;32mnot\u001b[0m \u001b[0;32mNone\u001b[0m\u001b[0;34m:\u001b[0m\u001b[0;34m\u001b[0m\u001b[0;34m\u001b[0m\u001b[0m\n\u001b[1;32m   1056\u001b[0m             \u001b[0mself\u001b[0m\u001b[0;34m.\u001b[0m\u001b[0mwarn_if_padding_and_no_attention_mask\u001b[0m\u001b[0;34m(\u001b[0m\u001b[0minput_ids\u001b[0m\u001b[0;34m,\u001b[0m \u001b[0mattention_mask\u001b[0m\u001b[0;34m)\u001b[0m\u001b[0;34m\u001b[0m\u001b[0;34m\u001b[0m\u001b[0m\n\u001b[0;32m-> 1057\u001b[0;31m             \u001b[0minput_shape\u001b[0m \u001b[0;34m=\u001b[0m \u001b[0minput_ids\u001b[0m\u001b[0;34m.\u001b[0m\u001b[0msize\u001b[0m\u001b[0;34m(\u001b[0m\u001b[0;34m)\u001b[0m\u001b[0;34m\u001b[0m\u001b[0;34m\u001b[0m\u001b[0m\n\u001b[0m\u001b[1;32m   1058\u001b[0m         \u001b[0;32melif\u001b[0m \u001b[0minputs_embeds\u001b[0m \u001b[0;32mis\u001b[0m \u001b[0;32mnot\u001b[0m \u001b[0;32mNone\u001b[0m\u001b[0;34m:\u001b[0m\u001b[0;34m\u001b[0m\u001b[0;34m\u001b[0m\u001b[0m\n\u001b[1;32m   1059\u001b[0m             \u001b[0minput_shape\u001b[0m \u001b[0;34m=\u001b[0m \u001b[0minputs_embeds\u001b[0m\u001b[0;34m.\u001b[0m\u001b[0msize\u001b[0m\u001b[0;34m(\u001b[0m\u001b[0;34m)\u001b[0m\u001b[0;34m[\u001b[0m\u001b[0;34m:\u001b[0m\u001b[0;34m-\u001b[0m\u001b[0;36m1\u001b[0m\u001b[0;34m]\u001b[0m\u001b[0;34m\u001b[0m\u001b[0;34m\u001b[0m\u001b[0m\n",
            "\u001b[0;31mAttributeError\u001b[0m: 'list' object has no attribute 'size'"
          ]
        }
      ]
    },
    {
      "cell_type": "markdown",
      "source": [
        "Hugging face models, are by default pytorch models, hence model accepts torch tensors\n"
      ],
      "metadata": {
        "id": "e6n9yprRSiao"
      }
    },
    {
      "cell_type": "code",
      "source": [
        "model_tensor_inputs = tokenizer(\"hello thanga im here\", return_tensors='pt')"
      ],
      "metadata": {
        "id": "5Qff_TRbSxrw"
      },
      "execution_count": 115,
      "outputs": []
    },
    {
      "cell_type": "code",
      "source": [
        "model_tensor_inputs"
      ],
      "metadata": {
        "colab": {
          "base_uri": "https://localhost:8080/"
        },
        "id": "RQDMn3oMS8Rz",
        "outputId": "2b6c2757-225c-4813-8ddb-a0596662919a"
      },
      "execution_count": 116,
      "outputs": [
        {
          "output_type": "execute_result",
          "data": {
            "text/plain": [
              "{'input_ids': tensor([[  101, 19082,  1190,  2571, 13280,  1303,   102]]), 'token_type_ids': tensor([[0, 0, 0, 0, 0, 0, 0]]), 'attention_mask': tensor([[1, 1, 1, 1, 1, 1, 1]])}"
            ]
          },
          "metadata": {},
          "execution_count": 116
        }
      ]
    },
    {
      "cell_type": "code",
      "source": [
        "outputs = model(**model_tensor_inputs)"
      ],
      "metadata": {
        "id": "IFNr0xt7TDdI"
      },
      "execution_count": 117,
      "outputs": []
    },
    {
      "cell_type": "code",
      "source": [
        "outputs"
      ],
      "metadata": {
        "colab": {
          "base_uri": "https://localhost:8080/"
        },
        "id": "iHDotqvVTH_9",
        "outputId": "8ada366f-7d76-4767-9a77-5c636dbb7dd0"
      },
      "execution_count": 118,
      "outputs": [
        {
          "output_type": "execute_result",
          "data": {
            "text/plain": [
              "SequenceClassifierOutput(loss=None, logits=tensor([[0.4701, 0.4417]], grad_fn=<AddmmBackward0>), hidden_states=None, attentions=None)"
            ]
          },
          "metadata": {},
          "execution_count": 118
        }
      ]
    },
    {
      "cell_type": "markdown",
      "source": [
        "Creating a new model with 3 Outputs"
      ],
      "metadata": {
        "id": "sCrsuKYsTTkg"
      }
    },
    {
      "cell_type": "code",
      "source": [
        "model = AutoModelForSequenceClassification.from_pretrained(checkpoint, num_labels=3)"
      ],
      "metadata": {
        "colab": {
          "base_uri": "https://localhost:8080/"
        },
        "id": "CjHgKd4BTWtl",
        "outputId": "2697edfe-23ac-469a-d694-304e2ede0df5"
      },
      "execution_count": 119,
      "outputs": [
        {
          "output_type": "stream",
          "name": "stderr",
          "text": [
            "Some weights of BertForSequenceClassification were not initialized from the model checkpoint at bert-base-cased and are newly initialized: ['classifier.bias', 'classifier.weight']\n",
            "You should probably TRAIN this model on a down-stream task to be able to use it for predictions and inference.\n"
          ]
        }
      ]
    },
    {
      "cell_type": "code",
      "source": [
        "outputs = model(**model_tensor_inputs)\n",
        "outputs"
      ],
      "metadata": {
        "colab": {
          "base_uri": "https://localhost:8080/"
        },
        "id": "qpJwGfLLTe5P",
        "outputId": "22fee0fb-8c36-4cdc-a33b-88c3ad2d82a9"
      },
      "execution_count": 120,
      "outputs": [
        {
          "output_type": "execute_result",
          "data": {
            "text/plain": [
              "SequenceClassifierOutput(loss=None, logits=tensor([[-0.6766,  0.0142,  0.2717]], grad_fn=<AddmmBackward0>), hidden_states=None, attentions=None)"
            ]
          },
          "metadata": {},
          "execution_count": 120
        }
      ]
    },
    {
      "cell_type": "code",
      "source": [
        "outputs.logits"
      ],
      "metadata": {
        "colab": {
          "base_uri": "https://localhost:8080/"
        },
        "id": "BoJfi5pETwP9",
        "outputId": "1df3a657-8425-459c-8dca-3db7a632d868"
      },
      "execution_count": 121,
      "outputs": [
        {
          "output_type": "execute_result",
          "data": {
            "text/plain": [
              "tensor([[-0.6766,  0.0142,  0.2717]], grad_fn=<AddmmBackward0>)"
            ]
          },
          "metadata": {},
          "execution_count": 121
        }
      ]
    },
    {
      "cell_type": "code",
      "source": [
        "outputs['logits']"
      ],
      "metadata": {
        "colab": {
          "base_uri": "https://localhost:8080/"
        },
        "id": "I_CnjAI-TyXP",
        "outputId": "d5ef4f1f-c10d-4a4b-a9eb-5cb014444453"
      },
      "execution_count": 122,
      "outputs": [
        {
          "output_type": "execute_result",
          "data": {
            "text/plain": [
              "tensor([[-0.6766,  0.0142,  0.2717]], grad_fn=<AddmmBackward0>)"
            ]
          },
          "metadata": {},
          "execution_count": 122
        }
      ]
    },
    {
      "cell_type": "code",
      "source": [
        "outputs[0]"
      ],
      "metadata": {
        "colab": {
          "base_uri": "https://localhost:8080/"
        },
        "id": "OQYMCseGT5Ak",
        "outputId": "3a7ca6a5-b569-48ad-804d-a102e45ac88a"
      },
      "execution_count": 123,
      "outputs": [
        {
          "output_type": "execute_result",
          "data": {
            "text/plain": [
              "tensor([[-0.6766,  0.0142,  0.2717]], grad_fn=<AddmmBackward0>)"
            ]
          },
          "metadata": {},
          "execution_count": 123
        }
      ]
    },
    {
      "cell_type": "code",
      "source": [
        "# torch tensors to numpy array\n",
        "\n",
        "outputs.logits.detach().cpu().numpy()"
      ],
      "metadata": {
        "colab": {
          "base_uri": "https://localhost:8080/"
        },
        "id": "JkBGMGjpUD2V",
        "outputId": "0c981b22-81bd-4af2-df1d-cb056650966d"
      },
      "execution_count": 124,
      "outputs": [
        {
          "output_type": "execute_result",
          "data": {
            "text/plain": [
              "array([[-0.67659426,  0.01415598,  0.27172992]], dtype=float32)"
            ]
          },
          "metadata": {},
          "execution_count": 124
        }
      ]
    },
    {
      "cell_type": "code",
      "source": [
        "data = [\n",
        "    \"hi iam thangarajfrom chennai\",\n",
        "    \"wie heissen sie?\",\n",
        "    \"wie get us ihne?\",\n",
        "]"
      ],
      "metadata": {
        "id": "EAb2TmNKUSAV"
      },
      "execution_count": 127,
      "outputs": []
    },
    {
      "cell_type": "code",
      "source": [
        "model_inputs = tokenizer(data, return_tensors='pt')"
      ],
      "metadata": {
        "colab": {
          "base_uri": "https://localhost:8080/",
          "height": 426
        },
        "id": "c6552uH2UaxU",
        "outputId": "48762124-278c-4a8e-b1f3-7f1529c6a544"
      },
      "execution_count": 128,
      "outputs": [
        {
          "output_type": "error",
          "ename": "ValueError",
          "evalue": "Unable to create tensor, you should probably activate truncation and/or padding with 'padding=True' 'truncation=True' to have batched tensors with the same length. Perhaps your features (`input_ids` in this case) have excessive nesting (inputs type `list` where type `int` is expected).",
          "traceback": [
            "\u001b[0;31m---------------------------------------------------------------------------\u001b[0m",
            "\u001b[0;31mValueError\u001b[0m                                Traceback (most recent call last)",
            "\u001b[0;32m/usr/local/lib/python3.10/dist-packages/transformers/tokenization_utils_base.py\u001b[0m in \u001b[0;36mconvert_to_tensors\u001b[0;34m(self, tensor_type, prepend_batch_axis)\u001b[0m\n\u001b[1;32m    761\u001b[0m                 \u001b[0;32mif\u001b[0m \u001b[0;32mnot\u001b[0m \u001b[0mis_tensor\u001b[0m\u001b[0;34m(\u001b[0m\u001b[0mvalue\u001b[0m\u001b[0;34m)\u001b[0m\u001b[0;34m:\u001b[0m\u001b[0;34m\u001b[0m\u001b[0;34m\u001b[0m\u001b[0m\n\u001b[0;32m--> 762\u001b[0;31m                     \u001b[0mtensor\u001b[0m \u001b[0;34m=\u001b[0m \u001b[0mas_tensor\u001b[0m\u001b[0;34m(\u001b[0m\u001b[0mvalue\u001b[0m\u001b[0;34m)\u001b[0m\u001b[0;34m\u001b[0m\u001b[0;34m\u001b[0m\u001b[0m\n\u001b[0m\u001b[1;32m    763\u001b[0m \u001b[0;34m\u001b[0m\u001b[0m\n",
            "\u001b[0;32m/usr/local/lib/python3.10/dist-packages/transformers/tokenization_utils_base.py\u001b[0m in \u001b[0;36mas_tensor\u001b[0;34m(value, dtype)\u001b[0m\n\u001b[1;32m    723\u001b[0m                     \u001b[0;32mreturn\u001b[0m \u001b[0mtorch\u001b[0m\u001b[0;34m.\u001b[0m\u001b[0mtensor\u001b[0m\u001b[0;34m(\u001b[0m\u001b[0mnp\u001b[0m\u001b[0;34m.\u001b[0m\u001b[0marray\u001b[0m\u001b[0;34m(\u001b[0m\u001b[0mvalue\u001b[0m\u001b[0;34m)\u001b[0m\u001b[0;34m)\u001b[0m\u001b[0;34m\u001b[0m\u001b[0;34m\u001b[0m\u001b[0m\n\u001b[0;32m--> 724\u001b[0;31m                 \u001b[0;32mreturn\u001b[0m \u001b[0mtorch\u001b[0m\u001b[0;34m.\u001b[0m\u001b[0mtensor\u001b[0m\u001b[0;34m(\u001b[0m\u001b[0mvalue\u001b[0m\u001b[0;34m)\u001b[0m\u001b[0;34m\u001b[0m\u001b[0;34m\u001b[0m\u001b[0m\n\u001b[0m\u001b[1;32m    725\u001b[0m \u001b[0;34m\u001b[0m\u001b[0m\n",
            "\u001b[0;31mValueError\u001b[0m: expected sequence of length 13 at dim 1 (got 10)",
            "\nThe above exception was the direct cause of the following exception:\n",
            "\u001b[0;31mValueError\u001b[0m                                Traceback (most recent call last)",
            "\u001b[0;32m<ipython-input-128-aa1c1ef3ecff>\u001b[0m in \u001b[0;36m<cell line: 1>\u001b[0;34m()\u001b[0m\n\u001b[0;32m----> 1\u001b[0;31m \u001b[0mmodel_inputs\u001b[0m \u001b[0;34m=\u001b[0m \u001b[0mtokenizer\u001b[0m\u001b[0;34m(\u001b[0m\u001b[0mdata\u001b[0m\u001b[0;34m,\u001b[0m \u001b[0mreturn_tensors\u001b[0m\u001b[0;34m=\u001b[0m\u001b[0;34m'pt'\u001b[0m\u001b[0;34m)\u001b[0m\u001b[0;34m\u001b[0m\u001b[0;34m\u001b[0m\u001b[0m\n\u001b[0m",
            "\u001b[0;32m/usr/local/lib/python3.10/dist-packages/transformers/tokenization_utils_base.py\u001b[0m in \u001b[0;36m__call__\u001b[0;34m(self, text, text_pair, text_target, text_pair_target, add_special_tokens, padding, truncation, max_length, stride, is_split_into_words, pad_to_multiple_of, return_tensors, return_token_type_ids, return_attention_mask, return_overflowing_tokens, return_special_tokens_mask, return_offsets_mapping, return_length, verbose, **kwargs)\u001b[0m\n\u001b[1;32m   2943\u001b[0m             \u001b[0;32mif\u001b[0m \u001b[0;32mnot\u001b[0m \u001b[0mself\u001b[0m\u001b[0;34m.\u001b[0m\u001b[0m_in_target_context_manager\u001b[0m\u001b[0;34m:\u001b[0m\u001b[0;34m\u001b[0m\u001b[0;34m\u001b[0m\u001b[0m\n\u001b[1;32m   2944\u001b[0m                 \u001b[0mself\u001b[0m\u001b[0;34m.\u001b[0m\u001b[0m_switch_to_input_mode\u001b[0m\u001b[0;34m(\u001b[0m\u001b[0;34m)\u001b[0m\u001b[0;34m\u001b[0m\u001b[0;34m\u001b[0m\u001b[0m\n\u001b[0;32m-> 2945\u001b[0;31m             \u001b[0mencodings\u001b[0m \u001b[0;34m=\u001b[0m \u001b[0mself\u001b[0m\u001b[0;34m.\u001b[0m\u001b[0m_call_one\u001b[0m\u001b[0;34m(\u001b[0m\u001b[0mtext\u001b[0m\u001b[0;34m=\u001b[0m\u001b[0mtext\u001b[0m\u001b[0;34m,\u001b[0m \u001b[0mtext_pair\u001b[0m\u001b[0;34m=\u001b[0m\u001b[0mtext_pair\u001b[0m\u001b[0;34m,\u001b[0m \u001b[0;34m**\u001b[0m\u001b[0mall_kwargs\u001b[0m\u001b[0;34m)\u001b[0m\u001b[0;34m\u001b[0m\u001b[0;34m\u001b[0m\u001b[0m\n\u001b[0m\u001b[1;32m   2946\u001b[0m         \u001b[0;32mif\u001b[0m \u001b[0mtext_target\u001b[0m \u001b[0;32mis\u001b[0m \u001b[0;32mnot\u001b[0m \u001b[0;32mNone\u001b[0m\u001b[0;34m:\u001b[0m\u001b[0;34m\u001b[0m\u001b[0;34m\u001b[0m\u001b[0m\n\u001b[1;32m   2947\u001b[0m             \u001b[0mself\u001b[0m\u001b[0;34m.\u001b[0m\u001b[0m_switch_to_target_mode\u001b[0m\u001b[0;34m(\u001b[0m\u001b[0;34m)\u001b[0m\u001b[0;34m\u001b[0m\u001b[0;34m\u001b[0m\u001b[0m\n",
            "\u001b[0;32m/usr/local/lib/python3.10/dist-packages/transformers/tokenization_utils_base.py\u001b[0m in \u001b[0;36m_call_one\u001b[0;34m(self, text, text_pair, add_special_tokens, padding, truncation, max_length, stride, is_split_into_words, pad_to_multiple_of, return_tensors, return_token_type_ids, return_attention_mask, return_overflowing_tokens, return_special_tokens_mask, return_offsets_mapping, return_length, verbose, split_special_tokens, **kwargs)\u001b[0m\n\u001b[1;32m   3030\u001b[0m                 )\n\u001b[1;32m   3031\u001b[0m             \u001b[0mbatch_text_or_text_pairs\u001b[0m \u001b[0;34m=\u001b[0m \u001b[0mlist\u001b[0m\u001b[0;34m(\u001b[0m\u001b[0mzip\u001b[0m\u001b[0;34m(\u001b[0m\u001b[0mtext\u001b[0m\u001b[0;34m,\u001b[0m \u001b[0mtext_pair\u001b[0m\u001b[0;34m)\u001b[0m\u001b[0;34m)\u001b[0m \u001b[0;32mif\u001b[0m \u001b[0mtext_pair\u001b[0m \u001b[0;32mis\u001b[0m \u001b[0;32mnot\u001b[0m \u001b[0;32mNone\u001b[0m \u001b[0;32melse\u001b[0m \u001b[0mtext\u001b[0m\u001b[0;34m\u001b[0m\u001b[0;34m\u001b[0m\u001b[0m\n\u001b[0;32m-> 3032\u001b[0;31m             return self.batch_encode_plus(\n\u001b[0m\u001b[1;32m   3033\u001b[0m                 \u001b[0mbatch_text_or_text_pairs\u001b[0m\u001b[0;34m=\u001b[0m\u001b[0mbatch_text_or_text_pairs\u001b[0m\u001b[0;34m,\u001b[0m\u001b[0;34m\u001b[0m\u001b[0;34m\u001b[0m\u001b[0m\n\u001b[1;32m   3034\u001b[0m                 \u001b[0madd_special_tokens\u001b[0m\u001b[0;34m=\u001b[0m\u001b[0madd_special_tokens\u001b[0m\u001b[0;34m,\u001b[0m\u001b[0;34m\u001b[0m\u001b[0;34m\u001b[0m\u001b[0m\n",
            "\u001b[0;32m/usr/local/lib/python3.10/dist-packages/transformers/tokenization_utils_base.py\u001b[0m in \u001b[0;36mbatch_encode_plus\u001b[0;34m(self, batch_text_or_text_pairs, add_special_tokens, padding, truncation, max_length, stride, is_split_into_words, pad_to_multiple_of, return_tensors, return_token_type_ids, return_attention_mask, return_overflowing_tokens, return_special_tokens_mask, return_offsets_mapping, return_length, verbose, split_special_tokens, **kwargs)\u001b[0m\n\u001b[1;32m   3226\u001b[0m         )\n\u001b[1;32m   3227\u001b[0m \u001b[0;34m\u001b[0m\u001b[0m\n\u001b[0;32m-> 3228\u001b[0;31m         return self._batch_encode_plus(\n\u001b[0m\u001b[1;32m   3229\u001b[0m             \u001b[0mbatch_text_or_text_pairs\u001b[0m\u001b[0;34m=\u001b[0m\u001b[0mbatch_text_or_text_pairs\u001b[0m\u001b[0;34m,\u001b[0m\u001b[0;34m\u001b[0m\u001b[0;34m\u001b[0m\u001b[0m\n\u001b[1;32m   3230\u001b[0m             \u001b[0madd_special_tokens\u001b[0m\u001b[0;34m=\u001b[0m\u001b[0madd_special_tokens\u001b[0m\u001b[0;34m,\u001b[0m\u001b[0;34m\u001b[0m\u001b[0;34m\u001b[0m\u001b[0m\n",
            "\u001b[0;32m/usr/local/lib/python3.10/dist-packages/transformers/tokenization_utils_fast.py\u001b[0m in \u001b[0;36m_batch_encode_plus\u001b[0;34m(self, batch_text_or_text_pairs, add_special_tokens, padding_strategy, truncation_strategy, max_length, stride, is_split_into_words, pad_to_multiple_of, return_tensors, return_token_type_ids, return_attention_mask, return_overflowing_tokens, return_special_tokens_mask, return_offsets_mapping, return_length, verbose, split_special_tokens)\u001b[0m\n\u001b[1;32m    574\u001b[0m         \u001b[0;32mfor\u001b[0m \u001b[0minput_ids\u001b[0m \u001b[0;32min\u001b[0m \u001b[0msanitized_tokens\u001b[0m\u001b[0;34m[\u001b[0m\u001b[0;34m\"input_ids\"\u001b[0m\u001b[0;34m]\u001b[0m\u001b[0;34m:\u001b[0m\u001b[0;34m\u001b[0m\u001b[0;34m\u001b[0m\u001b[0m\n\u001b[1;32m    575\u001b[0m             \u001b[0mself\u001b[0m\u001b[0;34m.\u001b[0m\u001b[0m_eventual_warn_about_too_long_sequence\u001b[0m\u001b[0;34m(\u001b[0m\u001b[0minput_ids\u001b[0m\u001b[0;34m,\u001b[0m \u001b[0mmax_length\u001b[0m\u001b[0;34m,\u001b[0m \u001b[0mverbose\u001b[0m\u001b[0;34m)\u001b[0m\u001b[0;34m\u001b[0m\u001b[0;34m\u001b[0m\u001b[0m\n\u001b[0;32m--> 576\u001b[0;31m         \u001b[0;32mreturn\u001b[0m \u001b[0mBatchEncoding\u001b[0m\u001b[0;34m(\u001b[0m\u001b[0msanitized_tokens\u001b[0m\u001b[0;34m,\u001b[0m \u001b[0msanitized_encodings\u001b[0m\u001b[0;34m,\u001b[0m \u001b[0mtensor_type\u001b[0m\u001b[0;34m=\u001b[0m\u001b[0mreturn_tensors\u001b[0m\u001b[0;34m)\u001b[0m\u001b[0;34m\u001b[0m\u001b[0;34m\u001b[0m\u001b[0m\n\u001b[0m\u001b[1;32m    577\u001b[0m \u001b[0;34m\u001b[0m\u001b[0m\n\u001b[1;32m    578\u001b[0m     def _encode_plus(\n",
            "\u001b[0;32m/usr/local/lib/python3.10/dist-packages/transformers/tokenization_utils_base.py\u001b[0m in \u001b[0;36m__init__\u001b[0;34m(self, data, encoding, tensor_type, prepend_batch_axis, n_sequences)\u001b[0m\n\u001b[1;32m    225\u001b[0m         \u001b[0mself\u001b[0m\u001b[0;34m.\u001b[0m\u001b[0m_n_sequences\u001b[0m \u001b[0;34m=\u001b[0m \u001b[0mn_sequences\u001b[0m\u001b[0;34m\u001b[0m\u001b[0;34m\u001b[0m\u001b[0m\n\u001b[1;32m    226\u001b[0m \u001b[0;34m\u001b[0m\u001b[0m\n\u001b[0;32m--> 227\u001b[0;31m         \u001b[0mself\u001b[0m\u001b[0;34m.\u001b[0m\u001b[0mconvert_to_tensors\u001b[0m\u001b[0;34m(\u001b[0m\u001b[0mtensor_type\u001b[0m\u001b[0;34m=\u001b[0m\u001b[0mtensor_type\u001b[0m\u001b[0;34m,\u001b[0m \u001b[0mprepend_batch_axis\u001b[0m\u001b[0;34m=\u001b[0m\u001b[0mprepend_batch_axis\u001b[0m\u001b[0;34m)\u001b[0m\u001b[0;34m\u001b[0m\u001b[0;34m\u001b[0m\u001b[0m\n\u001b[0m\u001b[1;32m    228\u001b[0m \u001b[0;34m\u001b[0m\u001b[0m\n\u001b[1;32m    229\u001b[0m     \u001b[0;34m@\u001b[0m\u001b[0mproperty\u001b[0m\u001b[0;34m\u001b[0m\u001b[0;34m\u001b[0m\u001b[0m\n",
            "\u001b[0;32m/usr/local/lib/python3.10/dist-packages/transformers/tokenization_utils_base.py\u001b[0m in \u001b[0;36mconvert_to_tensors\u001b[0;34m(self, tensor_type, prepend_batch_axis)\u001b[0m\n\u001b[1;32m    776\u001b[0m                         \u001b[0;34m\"Please see if a fast version of this tokenizer is available to have this feature available.\"\u001b[0m\u001b[0;34m\u001b[0m\u001b[0;34m\u001b[0m\u001b[0m\n\u001b[1;32m    777\u001b[0m                     ) from e\n\u001b[0;32m--> 778\u001b[0;31m                 raise ValueError(\n\u001b[0m\u001b[1;32m    779\u001b[0m                     \u001b[0;34m\"Unable to create tensor, you should probably activate truncation and/or padding with\"\u001b[0m\u001b[0;34m\u001b[0m\u001b[0;34m\u001b[0m\u001b[0m\n\u001b[1;32m    780\u001b[0m                     \u001b[0;34m\" 'padding=True' 'truncation=True' to have batched tensors with the same length. Perhaps your\"\u001b[0m\u001b[0;34m\u001b[0m\u001b[0;34m\u001b[0m\u001b[0m\n",
            "\u001b[0;31mValueError\u001b[0m: Unable to create tensor, you should probably activate truncation and/or padding with 'padding=True' 'truncation=True' to have batched tensors with the same length. Perhaps your features (`input_ids` in this case) have excessive nesting (inputs type `list` where type `int` is expected)."
          ]
        }
      ]
    },
    {
      "cell_type": "code",
      "source": [
        "model_inputs = tokenizer(data,\n",
        "                         padding = True,\n",
        "                         truncation = True,\n",
        "                         return_tensors='pt')"
      ],
      "metadata": {
        "id": "wTxWKyuwUv-u"
      },
      "execution_count": 129,
      "outputs": []
    },
    {
      "cell_type": "code",
      "source": [
        "model_inputs"
      ],
      "metadata": {
        "colab": {
          "base_uri": "https://localhost:8080/"
        },
        "id": "qf8O84MwU8vi",
        "outputId": "ba1c250c-bbac-403b-a501-bbe8d2938f13"
      },
      "execution_count": 130,
      "outputs": [
        {
          "output_type": "execute_result",
          "data": {
            "text/plain": [
              "{'input_ids': tensor([[  101, 20844,   178,  2312,  1190, 17582,  3361,  2087, 16071, 22572,\n",
              "          1424, 26727,   102],\n",
              "        [  101,   192,  1663,  1119, 19202,  1179, 27466,  1162,   136,   102,\n",
              "             0,     0,     0],\n",
              "        [  101,   192,  1663,  1243,  1366,   178,  7272,  1162,   136,   102,\n",
              "             0,     0,     0]]), 'token_type_ids': tensor([[0, 0, 0, 0, 0, 0, 0, 0, 0, 0, 0, 0, 0],\n",
              "        [0, 0, 0, 0, 0, 0, 0, 0, 0, 0, 0, 0, 0],\n",
              "        [0, 0, 0, 0, 0, 0, 0, 0, 0, 0, 0, 0, 0]]), 'attention_mask': tensor([[1, 1, 1, 1, 1, 1, 1, 1, 1, 1, 1, 1, 1],\n",
              "        [1, 1, 1, 1, 1, 1, 1, 1, 1, 1, 0, 0, 0],\n",
              "        [1, 1, 1, 1, 1, 1, 1, 1, 1, 1, 0, 0, 0]])}"
            ]
          },
          "metadata": {},
          "execution_count": 130
        }
      ]
    },
    {
      "cell_type": "code",
      "source": [
        "model_inputs['input_ids']"
      ],
      "metadata": {
        "colab": {
          "base_uri": "https://localhost:8080/"
        },
        "id": "huLYhK9TVDkJ",
        "outputId": "0275caea-0aa6-459a-8a99-938d284a46fc"
      },
      "execution_count": 131,
      "outputs": [
        {
          "output_type": "execute_result",
          "data": {
            "text/plain": [
              "tensor([[  101, 20844,   178,  2312,  1190, 17582,  3361,  2087, 16071, 22572,\n",
              "          1424, 26727,   102],\n",
              "        [  101,   192,  1663,  1119, 19202,  1179, 27466,  1162,   136,   102,\n",
              "             0,     0,     0],\n",
              "        [  101,   192,  1663,  1243,  1366,   178,  7272,  1162,   136,   102,\n",
              "             0,     0,     0]])"
            ]
          },
          "metadata": {},
          "execution_count": 131
        }
      ]
    },
    {
      "cell_type": "code",
      "source": [
        "model_inputs['attention_mask']"
      ],
      "metadata": {
        "colab": {
          "base_uri": "https://localhost:8080/"
        },
        "id": "fxIIVsC2VOfs",
        "outputId": "fffc7d55-039e-4fe8-c0fa-18fa4b8e7534"
      },
      "execution_count": 132,
      "outputs": [
        {
          "output_type": "execute_result",
          "data": {
            "text/plain": [
              "tensor([[1, 1, 1, 1, 1, 1, 1, 1, 1, 1, 1, 1, 1],\n",
              "        [1, 1, 1, 1, 1, 1, 1, 1, 1, 1, 0, 0, 0],\n",
              "        [1, 1, 1, 1, 1, 1, 1, 1, 1, 1, 0, 0, 0]])"
            ]
          },
          "metadata": {},
          "execution_count": 132
        }
      ]
    },
    {
      "cell_type": "code",
      "source": [
        "model(**model_inputs)"
      ],
      "metadata": {
        "colab": {
          "base_uri": "https://localhost:8080/"
        },
        "id": "4S_uRxzdVb0S",
        "outputId": "ff909709-eb3e-4bd9-bd6c-00cff17798b2"
      },
      "execution_count": 133,
      "outputs": [
        {
          "output_type": "execute_result",
          "data": {
            "text/plain": [
              "SequenceClassifierOutput(loss=None, logits=tensor([[-0.6505,  0.1087,  0.2586],\n",
              "        [-0.7073,  0.0078,  0.2935],\n",
              "        [-0.7594,  0.0368,  0.3014]], grad_fn=<AddmmBackward0>), hidden_states=None, attentions=None)"
            ]
          },
          "metadata": {},
          "execution_count": 133
        }
      ]
    }
  ]
}